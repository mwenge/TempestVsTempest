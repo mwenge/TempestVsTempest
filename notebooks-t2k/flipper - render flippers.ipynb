{
 "cells": [
  {
   "cell_type": "markdown",
   "id": "620b4287",
   "metadata": {},
   "source": [
    "# Render all the objects in obj2d.s"
   ]
  },
  {
   "cell_type": "code",
   "execution_count": 2,
   "id": "494b1745",
   "metadata": {},
   "outputs": [],
   "source": [
    "def getFaceData(face_data, verts):\n",
    "    faces_string = face_data\n",
    "    faces = [x.strip() for x in faces_string.split('\\n') if x.strip()][:-1]\n",
    "    faces = [x.split('\\t')[0].split(' ')[1] for x in faces]\n",
    "    no_faces = int(faces[0])\n",
    "    faces = faces[1:]\n",
    "    pairs_string = verts\n",
    "    pairs = [int(x) for x in pairs_string.split()[1].split(',')]\n",
    "    \n",
    "    vertices = []\n",
    "    intensities = []\n",
    "    colors = []\n",
    "    for i in range(0,len(faces),5):\n",
    "        color = int(faces[i][-2:],16)\n",
    "        colors += [color]\n",
    "\n",
    "        index1 = int(faces[i+1].split(',')[0].strip('$'))\n",
    "        index2 = int(faces[i+2].split(',')[0].strip('$'))\n",
    "        index3 = int(faces[i+3].split(',')[0].strip('$'))\n",
    "        vertex1 = tuple(pairs[index1*2:(index1*2)+2])\n",
    "        vertex2 = tuple(pairs[index2*2:(index2*2)+2])\n",
    "        vertex3 = tuple(pairs[index3*2:(index3*2)+2])\n",
    "        vertices += [[vertex1,vertex2,vertex3]]\n",
    "\n",
    "        intensity1 = int(faces[i+1].split(',')[1][1:3],16)\n",
    "        intensity2 = int(faces[i+2].split(',')[1][1:3],16)\n",
    "        intensity3 = int(faces[i+3].split(',')[1][1:3],16)\n",
    "        intensities += [(intensity1,intensity2,intensity3)]\n",
    "    return (no_faces, colors, intensities, vertices)"
   ]
  },
  {
   "cell_type": "markdown",
   "id": "ababab02",
   "metadata": {},
   "source": [
    "Had to clean up `obj2d.s` a bit. The claws are split out into a separate file `claws.s`."
   ]
  },
  {
   "cell_type": "code",
   "execution_count": 3,
   "id": "ccb9ef66",
   "metadata": {
    "scrolled": true
   },
   "outputs": [],
   "source": [
    "data = open(\"obj2d_cleaned.s\").read().split(\":\")\n",
    "poly_data = []\n",
    "poly_names = []\n",
    "for i in range(1,len(data),2):\n",
    "    poly_name = data[i-1].splitlines()[-1]\n",
    "    poly_names += [poly_name]\n",
    "    poly_data += [getFaceData(data[i],data[i+1])]"
   ]
  },
  {
   "cell_type": "code",
   "execution_count": 43,
   "id": "82403d93",
   "metadata": {
    "scrolled": true
   },
   "outputs": [
    {
     "data": {
      "image/png": "[encoded data removed]",
      "text/plain": [
       "<Figure size 432x288 with 1 Axes>"
      ]
     },
     "metadata": {
      "needs_background": "light"
     },
     "output_type": "display_data"
    },
    {
     "data": {
      "image/png": "[encoded data removed]",
      "text/plain": [
       "<Figure size 432x288 with 1 Axes>"
      ]
     },
     "metadata": {
      "needs_background": "light"
     },
     "output_type": "display_data"
    },
    {
     "data": {
      "image/png": "[encoded data removed]",
      "text/plain": [
       "<Figure size 432x288 with 1 Axes>"
      ]
     },
     "metadata": {
      "needs_background": "light"
     },
     "output_type": "display_data"
    },
    {
     "data": {
      "image/png": "[encoded data removed]",
      "text/plain": [
       "<Figure size 432x288 with 1 Axes>"
      ]
     },
     "metadata": {
      "needs_background": "light"
     },
     "output_type": "display_data"
    }
   ],
   "source": [
    "from PIL import Image,ImageDraw\n",
    "import matplotlib.pyplot as plt\n",
    "import matplotlib.patches as patches\n",
    "import cry_rgb as cry\n",
    "\n",
    "flatten = lambda l: [e for sublist in l for e in sublist]\n",
    "flipper = poly_data[0]\n",
    "\n",
    "no_faces, colors, intensities, vertices = flipper\n",
    "\n",
    "for n in range(1,5):\n",
    "    # Scale the vertices up * 10 so we get a decent size image.\n",
    "    scaled_vertices = [\n",
    "        [(x*10,y*10) for (x,y) in verts]\n",
    "        for verts in vertices\n",
    "    ]\n",
    "\n",
    "    # Get the xs and ys so we can use them in our dimensions\n",
    "    xs = [x for (x,y) in flatten(scaled_vertices)]\n",
    "    ys = [y for (x,y) in flatten(scaled_vertices)]\n",
    "    x_offset = abs(min(xs) if min(xs) < 0 else 0)\n",
    "    y_offset = abs(min(ys) if min(ys) < 0 else 0)\n",
    "    height = max(ys) + y_offset\n",
    "    width = max(xs) + x_offset\n",
    "    im = Image.new('RGB', (width+2, height+2))\n",
    "    draw = ImageDraw.Draw(im)\n",
    "\n",
    "    for i,vertex in enumerate(scaled_vertices[:n]):\n",
    "        vertex = [(x+x_offset,y+y_offset) for x,y in vertex]\n",
    "        # FIXME: Get the intensity value right here.\n",
    "        color = cry.cry_to_rgb2(colors[i],intensities[i][0])\n",
    "        draw.polygon(vertex, fill = color)\n",
    "    fig, ax = plt.subplots()\n",
    "    # Offset the plot ticks to allow for negative values\n",
    "    ax.imshow(im,extent=[min(min(xs),0), max(xs), min(min(ys),0), max(ys)])\n",
    "\n",
    "    # Only use the vertices for ticks in our graph\n",
    "    plt.xticks(list(sorted(set(xs))))\n",
    "    plt.yticks(list(sorted(set(ys))))\n",
    "    ax.set_yticklabels([180,90,0])\n",
    "    plt.savefig(f\"flipper/flipper_face_{n}.png\", bbox_inches='tight')"
   ]
  },
  {
   "cell_type": "code",
   "execution_count": null,
   "id": "e71b8b53",
   "metadata": {},
   "outputs": [],
   "source": [
    "\n",
    "\n",
    "\n",
    "\n",
    "\n",
    "\n",
    "\n",
    "\n"
   ]
  }
 ],
 "metadata": {
  "kernelspec": {
   "display_name": "Python 3 (ipykernel)",
   "language": "python",
   "name": "python3"
  },
  "language_info": {
   "codemirror_mode": {
    "name": "ipython",
    "version": 3
   },
   "file_extension": ".py",
   "mimetype": "text/x-python",
   "name": "python",
   "nbconvert_exporter": "python",
   "pygments_lexer": "ipython3",
   "version": "3.10.12"
  }
 },
 "nbformat": 4,
 "nbformat_minor": 5
}
