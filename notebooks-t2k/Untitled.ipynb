{
 "cells": [
  {
   "cell_type": "code",
   "execution_count": 14,
   "id": "4efb5ae6",
   "metadata": {},
   "outputs": [
    {
     "name": "stdout",
     "output_type": "stream",
     "text": [
      "********************************************************************************\n",
      "WARNING: Imported VTK version (9.3) does not match the one used\n",
      "         to build the TVTK classes (9.2). This may cause problems.\n",
      "         Please rebuild TVTK.\n",
      "********************************************************************************\n",
      "\n",
      "Notebook initialized with ipy backend.\n"
     ]
    }
   ],
   "source": [
    "import numpy as np\n",
    "from mayavi import mlab\n",
    "mlab.init_notebook()"
   ]
  },
  {
   "cell_type": "code",
   "execution_count": 2,
   "id": "bb693d84",
   "metadata": {},
   "outputs": [],
   "source": [
    "from PIL import Image, ImageColor, ImageChops\n",
    "import numpy as np\n",
    "\n",
    "def createVoxelData(screens):\n",
    "    # prepare some coordinates\n",
    "    width = len(screens[0][0])\n",
    "    height = len (screens[0])\n",
    "    x, y, z, colors = [],[],[],[]\n",
    "    for zp,screen in enumerate(screens):\n",
    "        for yp, row in enumerate(list(screen)):\n",
    "            for xp, col in enumerate(row):\n",
    "                x+=[xp]\n",
    "                y+=[yp]\n",
    "                z+=[zp]\n",
    "                colors+=[col]\n",
    "\n",
    "    return (x,y,z,colors)\n"
   ]
  },
  {
   "cell_type": "code",
   "execution_count": 49,
   "id": "53e6b9a9",
   "metadata": {},
   "outputs": [],
   "source": [
    "screens = []\n",
    "top = 10\n",
    "bottom = 0\n",
    "base = (top*top*top)\n",
    "for z in range(bottom,top):\n",
    "    s = []\n",
    "    for y in range(bottom,top):\n",
    "        r = []\n",
    "        t = bottom+1\n",
    "        if y == bottom or z ==bottom:\n",
    "            t = top\n",
    "        for x in range(bottom,2):\n",
    "            c = (x*y*z)/base\n",
    "            r += [c]\n",
    "        s+=[r]\n",
    "    screens+=[s]\n"
   ]
  },
  {
   "cell_type": "code",
   "execution_count": 66,
   "id": "b9000783",
   "metadata": {},
   "outputs": [],
   "source": [
    "import numpy as np\n",
    "import random\n",
    "from mayavi import mlab\n",
    "mlab.init_notebook()"
   ]
  },
  {
   "cell_type": "code",
   "execution_count": 77,
   "id": "495acb02",
   "metadata": {},
   "outputs": [
    {
     "data": {
      "application/vnd.jupyter.widget-view+json": {
       "model_id": "aa6d3b53309446828499091ec29768dc",
       "version_major": 2,
       "version_minor": 0
      },
      "text/plain": [
       "Image(value=b'\\x89PNG\\r\\n\\x1a\\n\\x00\\x00\\x00\\rIHDR\\x00\\x00\\x01\\x90\\x00\\x00\\x01^\\x08\\x02\\x00\\x00\\x00$?\\xde_\\x00\\…"
      ]
     },
     "metadata": {},
     "output_type": "display_data"
    }
   ],
   "source": [
    "#(x,y,z,colors) = createVoxelData(screens)\n",
    "xyzc = []\n",
    "for z in range(0,16):\n",
    "    for y in range(0,16):\n",
    "        # The left-hand face\n",
    "        xyzc += [(15,y,z,0.4)]\n",
    "        # The lid of the cube\n",
    "        for x in range(0,16):\n",
    "            xyzc += [(x,y,15,0.2)]\n",
    "    # The right-hand face\n",
    "    for x in range(0,16):\n",
    "        xyzc += [(x,y,z,0.9)]\n",
    "x,y,z,colors = [list(t) for t in zip(*xyzc)]\n",
    "\n",
    "mlab.close()\n",
    "s = mlab.points3d(x, y, z, mode=\"sphere\")\n",
    "s.glyph.scale_mode = 'scale_by_vector'\n",
    "s.mlab_source.dataset.point_data.scalars = colors\n",
    "#mlab.roll(-75)\n",
    "s\n"
   ]
  },
  {
   "cell_type": "code",
   "execution_count": 37,
   "id": "edf9fa98",
   "metadata": {},
   "outputs": [
    {
     "name": "stdout",
     "output_type": "stream",
     "text": [
      "[0.         0.05555556 0.11111111 0.16666667 0.22222222 0.27777778\n",
      " 0.33333333 0.38888889 0.44444444 0.5        0.05555556 0.11111111\n",
      " 0.16666667 0.22222222 0.27777778 0.33333333 0.38888889 0.44444444\n",
      " 0.5        0.55555556 0.11111111 0.16666667 0.22222222 0.27777778\n",
      " 0.33333333 0.38888889 0.44444444 0.5        0.55555556 0.61111111\n",
      " 0.16666667 0.22222222 0.27777778 0.33333333 0.38888889 0.44444444\n",
      " 0.5        0.55555556 0.61111111 0.66666667 0.22222222 0.27777778\n",
      " 0.33333333 0.38888889 0.44444444 0.5        0.55555556 0.61111111\n",
      " 0.66666667 0.72222222 0.27777778 0.33333333 0.38888889 0.44444444\n",
      " 0.5        0.55555556 0.61111111 0.66666667 0.72222222 0.77777778\n",
      " 0.33333333 0.38888889 0.44444444 0.5        0.55555556 0.61111111\n",
      " 0.66666667 0.72222222 0.77777778 0.83333333 0.38888889 0.44444444\n",
      " 0.5        0.55555556 0.61111111 0.66666667 0.72222222 0.77777778\n",
      " 0.83333333 0.88888889 0.44444444 0.5        0.55555556 0.61111111\n",
      " 0.66666667 0.72222222 0.77777778 0.83333333 0.88888889 0.94444444\n",
      " 0.5        0.55555556 0.61111111 0.66666667 0.72222222 0.77777778\n",
      " 0.83333333 0.88888889 0.94444444 1.        ]\n"
     ]
    }
   ],
   "source": [
    "K = 10\n",
    "xx = np.arange(0, K, 1)\n",
    "yy = np.arange(0, K, 1)\n",
    "\n",
    "x, y = np.meshgrid(xx, yy)\n",
    "x, y = x.flatten(), y.flatten()\n",
    "z = np.zeros(K*K)\n",
    "\n",
    "colors = 1.0 * (x + y)/(max(x)+max(y))\n",
    "\n",
    "mlab.close()\n",
    "nodes = mlab.points3d(x, y, z, scale_factor=0.5)\n",
    "nodes.glyph.scale_mode = 'scale_by_vector'\n",
    "\n",
    "nodes.mlab_source.dataset.point_data.scalars = colors\n",
    "nodes\n",
    "print(colors)"
   ]
  },
  {
   "cell_type": "code",
   "execution_count": 9,
   "id": "9a0e5dd8",
   "metadata": {},
   "outputs": [
    {
     "name": "stdout",
     "output_type": "stream",
     "text": [
      "[1 8] [1 8] [ 1 10] [0.2 0.3]\n"
     ]
    },
    {
     "data": {
      "application/vnd.jupyter.widget-view+json": {
       "model_id": "70c0a607da274aa39011c42d48d7f410",
       "version_major": 2,
       "version_minor": 0
      },
      "text/plain": [
       "Image(value=b'\\x89PNG\\r\\n\\x1a\\n\\x00\\x00\\x00\\rIHDR\\x00\\x00\\x01\\x90\\x00\\x00\\x01^\\x08\\x02\\x00\\x00\\x00$?\\xde_\\x00\\…"
      ]
     },
     "metadata": {},
     "output_type": "display_data"
    }
   ],
   "source": [
    "x = np.array([1,8])\n",
    "y = np.array([1,8])\n",
    "z = np.array([1,10])\n",
    "value = np.array([0.2,0.3])\n",
    "print(x,y,z,value)\n",
    "#mlab.close()\n",
    "s = mlab.points3d(x, y, z, value,scale_mode=\"vector\", mode=\"point\")\n",
    "s"
   ]
  }
 ],
 "metadata": {
  "kernelspec": {
   "display_name": "Python 3 (ipykernel)",
   "language": "python",
   "name": "python3"
  },
  "language_info": {
   "codemirror_mode": {
    "name": "ipython",
    "version": 3
   },
   "file_extension": ".py",
   "mimetype": "text/x-python",
   "name": "python",
   "nbconvert_exporter": "python",
   "pygments_lexer": "ipython3",
   "version": "3.10.12"
  }
 },
 "nbformat": 4,
 "nbformat_minor": 5
}
