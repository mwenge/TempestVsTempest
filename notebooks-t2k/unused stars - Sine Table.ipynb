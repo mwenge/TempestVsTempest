{
 "cells": [
  {
   "cell_type": "code",
   "execution_count": 1,
   "id": "9a5aa5d6",
   "metadata": {},
   "outputs": [],
   "source": [
    "flatten = lambda l: [e for sublist in l for e in sublist]\n",
    "sines = \"\"\"\n",
    "\tDC.L\t$00030609,$0C0F1215,$181B1E21,$24272A2D\n",
    "\tDC.L\t$30333639,$3B3E4144,$46494B4E,$50535557\n",
    "\tDC.L\t$595C5E60,$62646667,$696B6D6E,$70717274\n",
    "\tDC.L\t$75767778,$797A7B7B,$7C7D7D7E,$7E7E7E7E\n",
    "\tDC.L\t$7E7E7E7E,$7E7E7D7D,$7C7B7B7A,$79787776\n",
    "\tDC.L\t$75737271,$6F6E6C6B,$69676563,$615F5D5B\n",
    "\tDC.L\t$59575552,$504D4B48,$4643403E,$3B383533\n",
    "\tDC.L\t$302D2A27,$24211E1B,$1815120F,$0C080502\n",
    "\tDC.L\t$00FDFAF7,$F4F0EDEA,$E7E4E1DE,$DBD8D5D2\n",
    "\tDC.L\t$CFCDCAC7,$C4C1BFBC,$B9B7B4B2,$B0ADABA9\n",
    "\tDC.L\t$A6A4A2A0,$9E9C9A98,$97959392,$908F8D8C\n",
    "\tDC.L\t$8B8A8988,$87868584,$84838382,$82828282\n",
    "\tDC.L\t$82828282,$82838383,$84858586,$8788898A\n",
    "\tDC.L\t$8B8D8E8F,$91929496,$97999B9D,$9FA1A3A5\n",
    "\tDC.L\t$A7AAACAE,$B1B3B6B8,$BBBDC0C3,$C5C8CBCE\n",
    "\tDC.L\t$D1D4D7D9,$DCDFE2E6,$E9ECEFF2,$F5F8FBFE\n",
    "\tDC.L\t$00000192,$032304B5,$064507D5,$09630AF0\n",
    "\tDC.L\t$0C7C0E05,$0F8C1111,$12931413,$158F1708\n",
    "\tDC.L\t$187D19EF,$1B5C1CC5,$1E2A1F8B,$20E6223C\n",
    "\tDC.L\t$238D24D9,$261F275F,$289929CC,$2AFA2C20\n",
    "\tDC.L\t$2D402E59,$2F6B3075,$31783273,$33663452\n",
    "\tDC.L\t$35353611,$36E437AE,$38703929,$39DA3A81\n",
    "\tDC.L\t$3B1F3BB5,$3C413CC4,$3D3D3DAD,$3E143E70\n",
    "\tDC.L\t$3EC43F0D,$3F4D3F83,$3FB03FD2,$3FEB3FFA\n",
    "\tDC.L\t$3FFF3FFA,$3FEB3FD2,$3FB03F83,$3F4D3F0D\n",
    "\tDC.L\t$3EC43E70,$3E143DAD,$3D3D3CC4,$3C413BB5\n",
    "\tDC.L\t$3B1F3A81,$39DA3929,$387037AE,$36E43611\n",
    "\tDC.L\t$35353452,$33663273,$31783075,$2F6B2E59\n",
    "\tDC.L\t$2D402C20,$2AFA29CC,$2899275F,$261F24D9\n",
    "\tDC.L\t$238D223C,$20E61F8B,$1E2A1CC5,$1B5C19EF\n",
    "\tDC.L\t$187D1708,$158F1413,$12931111,$0F8C0E05\n",
    "\tDC.L\t$0C7C0AF0,$096307D5,$064504B5,$03230192\n",
    "\tDC.L\t$0000FF6E,$FDDDFC4B,$FABBF92B,$F79DF610\n",
    "\tDC.L\t$F484F2FB,$F174EFEF,$EE6DECED,$EB71E9F8\n",
    "\tDC.L\t$E883E711,$E5A4E43B,$E2D6E175,$E01ADEC4\n",
    "\tDC.L\t$DD73DC27,$DAE1D9A1,$D867D734,$D606D4E0\n",
    "\tDC.L\t$D3C0D2A7,$D195D08B,$CF88CE8D,$CD9ACCAE\n",
    "\tDC.L\t$CBCBCAEF,$CA1CC952,$C890C7D7,$C726C67F\n",
    "\tDC.L\t$C5E1C54B,$C4BFC43C,$C3C3C353,$C2ECC290\n",
    "\tDC.L\t$C23CC1F3,$C1B3C17D,$C150C12E,$C115C106\n",
    "\tDC.L\t$C101C106,$C115C12E,$C150C17D,$C1B3C1F3\n",
    "\tDC.L\t$C23CC290,$C2ECC353,$C3C3C43C,$C4BFC54B\n",
    "\tDC.L\t$C5E1C67F,$C726C7D7,$C890C952,$CA1CCAEF\n",
    "\tDC.L\t$CBCBCCAE,$CD9ACE8D,$CF88D08B,$D195D2A7\n",
    "\tDC.L\t$D3C0D4E0,$D606D734,$D867D9A1,$DAE1DC27\n",
    "\tDC.L\t$DD73DEC4,$E01AE175,$E2D6E43B,$E5A4E711\n",
    "\tDC.L\t$E883E9F8,$EB71ECED,$EE6DEFEF,$F174F2FB\n",
    "\tDC.L\t$F484F610,$F79DF92B,$FABBFC4B,$FDDDFF6E\n",
    "\"\"\".replace('\\tDC.L\\t','').split('\\n')\n",
    "\n",
    "def word_to_int(hex_str):\n",
    "    value = int(hex_str, 16)\n",
    "    if value > 0x8000:\n",
    "        value = value-0xFFFF\n",
    "    return value\n",
    "\n",
    "sines = flatten([s.split(',') for s in sines if s])\n",
    "raw_int_sines = flatten([[int(s[1:5],16),int(s[5:9],16)] for s in sines])\n",
    "int_sines = flatten([[word_to_int(s[1:5]),word_to_int(s[5:9])] for s in sines])\n",
    "word_sines = flatten([[f\"${s[1:5]}\",f\"${s[5:9]}\"] for s in sines])\n"
   ]
  },
  {
   "cell_type": "code",
   "execution_count": 148,
   "id": "10723865",
   "metadata": {},
   "outputs": [
    {
     "name": "stdout",
     "output_type": "stream",
     "text": [
      "dc.w $0003,$0609,$0C0F,$1215,$181B,$1E21,$2427,$2A2D\n",
      "dc.w $3033,$3639,$3B3E,$4144,$4649,$4B4E,$5053,$5557\n",
      "dc.w $595C,$5E60,$6264,$6667,$696B,$6D6E,$7071,$7274\n",
      "dc.w $7576,$7778,$797A,$7B7B,$7C7D,$7D7E,$7E7E,$7E7E\n",
      "dc.w $7E7E,$7E7E,$7E7E,$7D7D,$7C7B,$7B7A,$7978,$7776\n",
      "dc.w $7573,$7271,$6F6E,$6C6B,$6967,$6563,$615F,$5D5B\n",
      "dc.w $5957,$5552,$504D,$4B48,$4643,$403E,$3B38,$3533\n",
      "dc.w $302D,$2A27,$2421,$1E1B,$1815,$120F,$0C08,$0502\n",
      "dc.w $00FD,$FAF7,$F4F0,$EDEA,$E7E4,$E1DE,$DBD8,$D5D2\n",
      "dc.w $CFCD,$CAC7,$C4C1,$BFBC,$B9B7,$B4B2,$B0AD,$ABA9\n",
      "dc.w $A6A4,$A2A0,$9E9C,$9A98,$9795,$9392,$908F,$8D8C\n",
      "dc.w $8B8A,$8988,$8786,$8584,$8483,$8382,$8282,$8282\n",
      "dc.w $8282,$8282,$8283,$8383,$8485,$8586,$8788,$898A\n",
      "dc.w $8B8D,$8E8F,$9192,$9496,$9799,$9B9D,$9FA1,$A3A5\n",
      "dc.w $A7AA,$ACAE,$B1B3,$B6B8,$BBBD,$C0C3,$C5C8,$CBCE\n",
      "dc.w $D1D4,$D7D9,$DCDF,$E2E6,$E9EC,$EFF2,$F5F8,$FBFE\n",
      "dc.w $0000,$0192,$0323,$04B5,$0645,$07D5,$0963,$0AF0\n",
      "dc.w $0C7C,$0E05,$0F8C,$1111,$1293,$1413,$158F,$1708\n",
      "dc.w $187D,$19EF,$1B5C,$1CC5,$1E2A,$1F8B,$20E6,$223C\n",
      "dc.w $238D,$24D9,$261F,$275F,$2899,$29CC,$2AFA,$2C20\n",
      "dc.w $2D40,$2E59,$2F6B,$3075,$3178,$3273,$3366,$3452\n",
      "dc.w $3535,$3611,$36E4,$37AE,$3870,$3929,$39DA,$3A81\n",
      "dc.w $3B1F,$3BB5,$3C41,$3CC4,$3D3D,$3DAD,$3E14,$3E70\n",
      "dc.w $3EC4,$3F0D,$3F4D,$3F83,$3FB0,$3FD2,$3FEB,$3FFA\n",
      "dc.w $3FFF,$3FFA,$3FEB,$3FD2,$3FB0,$3F83,$3F4D,$3F0D\n",
      "dc.w $3EC4,$3E70,$3E14,$3DAD,$3D3D,$3CC4,$3C41,$3BB5\n",
      "dc.w $3B1F,$3A81,$39DA,$3929,$3870,$37AE,$36E4,$3611\n",
      "dc.w $3535,$3452,$3366,$3273,$3178,$3075,$2F6B,$2E59\n",
      "dc.w $2D40,$2C20,$2AFA,$29CC,$2899,$275F,$261F,$24D9\n",
      "dc.w $238D,$223C,$20E6,$1F8B,$1E2A,$1CC5,$1B5C,$19EF\n",
      "dc.w $187D,$1708,$158F,$1413,$1293,$1111,$0F8C,$0E05\n",
      "dc.w $0C7C,$0AF0,$0963,$07D5,$0645,$04B5,$0323,$0192\n",
      "dc.w $0000,$FF6E,$FDDD,$FC4B,$FABB,$F92B,$F79D,$F610\n",
      "dc.w $F484,$F2FB,$F174,$EFEF,$EE6D,$ECED,$EB71,$E9F8\n",
      "dc.w $E883,$E711,$E5A4,$E43B,$E2D6,$E175,$E01A,$DEC4\n",
      "dc.w $DD73,$DC27,$DAE1,$D9A1,$D867,$D734,$D606,$D4E0\n",
      "dc.w $D3C0,$D2A7,$D195,$D08B,$CF88,$CE8D,$CD9A,$CCAE\n",
      "dc.w $CBCB,$CAEF,$CA1C,$C952,$C890,$C7D7,$C726,$C67F\n",
      "dc.w $C5E1,$C54B,$C4BF,$C43C,$C3C3,$C353,$C2EC,$C290\n",
      "dc.w $C23C,$C1F3,$C1B3,$C17D,$C150,$C12E,$C115,$C106\n",
      "dc.w $C101,$C106,$C115,$C12E,$C150,$C17D,$C1B3,$C1F3\n",
      "dc.w $C23C,$C290,$C2EC,$C353,$C3C3,$C43C,$C4BF,$C54B\n",
      "dc.w $C5E1,$C67F,$C726,$C7D7,$C890,$C952,$CA1C,$CAEF\n",
      "dc.w $CBCB,$CCAE,$CD9A,$CE8D,$CF88,$D08B,$D195,$D2A7\n",
      "dc.w $D3C0,$D4E0,$D606,$D734,$D867,$D9A1,$DAE1,$DC27\n",
      "dc.w $DD73,$DEC4,$E01A,$E175,$E2D6,$E43B,$E5A4,$E711\n",
      "dc.w $E883,$E9F8,$EB71,$ECED,$EE6D,$EFEF,$F174,$F2FB\n",
      "dc.w $F484,$F610,$F79D,$F92B,$FABB,$FC4B,$FDDD,$FF6E\n"
     ]
    }
   ],
   "source": [
    "for i in range(0,len(word_sines),8):\n",
    "    print(f\"dc.w {','.join(word_sines[i:i+8])}\")"
   ]
  },
  {
   "cell_type": "code",
   "execution_count": 231,
   "id": "86398347",
   "metadata": {},
   "outputs": [
    {
     "data": {
      "text/plain": [
       "'0x80'"
      ]
     },
     "execution_count": 231,
     "metadata": {},
     "output_type": "execute_result"
    }
   ],
   "source": [
    "v = 0x180\n",
    "hex(v | 0xFFFFFF00)\n",
    "hex(v & 0xFF)\n"
   ]
  },
  {
   "cell_type": "code",
   "execution_count": 244,
   "id": "577a7ca6",
   "metadata": {},
   "outputs": [
    {
     "name": "stdout",
     "output_type": "stream",
     "text": [
      "32 0x0 0xc101 0x1 0x0\n",
      "0x6400 0x0\n",
      "31 0xc7c 0xc23c 0x3c 0x7c\n",
      "0x177000 0x307000\n",
      "30 0x187d 0xc5e1 0xffe1 0x7d\n",
      "-0xbb800 0x30d400\n",
      "29 0x238d 0xcbcb 0xffcb 0xff8d\n",
      "-0x145000 -0x2c8800\n",
      "28 0x2d40 0xd3c0 0xffc0 0x40\n",
      "-0x189c00 0x190000\n",
      "27 0x3535 0xdd73 0x73 0x35\n",
      "0x2cec00 0x14b400\n",
      "26 0x3b1f 0xe883 0xff83 0x1f\n",
      "-0x307000 0xc1c00\n",
      "25 0x3ec4 0xf484 0xff84 0xffc4\n",
      "-0x300c00 -0x170c00\n",
      "24 0x3fff 0x0 0x0 0xffff\n",
      "0x0 0x0\n",
      "23 0x3ec4 0xc7c 0x7c 0xffc4\n",
      "0x307000 -0x170c00\n",
      "22 0x3b1f 0x187d 0x7d 0x1f\n",
      "0x30d400 0xc1c00\n",
      "21 0x3535 0x238d 0xff8d 0x35\n",
      "-0x2c8800 0x14b400\n",
      "20 0x2d40 0x2d40 0x40 0x40\n",
      "0x190000 0x190000\n",
      "19 0x238d 0x3535 0x35 0xff8d\n",
      "0x14b400 -0x2c8800\n",
      "18 0x187d 0x3b1f 0x1f 0x7d\n",
      "0xc1c00 0x30d400\n",
      "17 0xc7c 0x3ec4 0xffc4 0x7c\n",
      "-0x170c00 0x307000\n",
      "[25600, 1536000, -768000, -1331200, -1612800, 2944000, -3174400, -3148800, 0, 3174400, 3200000, -2918400, 1638400, 1356800, 793600, -1510400] [0, 3174400, 3200000, -2918400, 1638400, 1356800, 793600, -1510400, 0, -1510400, 793600, 1356800, 1638400, -2918400, 3200000, 3174400]\n"
     ]
    },
    {
     "data": {
      "image/png": "[encoded data removed]",
      "text/plain": [
       "<Figure size 432x288 with 1 Axes>"
      ]
     },
     "metadata": {
      "needs_background": "light"
     },
     "output_type": "display_data"
    }
   ],
   "source": [
    "from matplotlib import pyplot as plt\n",
    "\n",
    "addb = lambda a,b: (a & 0xFF00) | (a + b) & 0xFF\n",
    "ext = lambda x: x | 0xFF00 if (x & 0x80) else x & 0xFF\n",
    "signed = lambda x: x-0xFFFF if x > 0x8000 else x\n",
    "\n",
    "\n",
    "r=200\n",
    "xs=[]\n",
    "ys=[]\n",
    "for i in range(32,16,-1):\n",
    "    sin = raw_int_sines[i << 3]\n",
    "    cos = raw_int_sines[(i << 3) + 0x40]\n",
    "    ext_cos = signed(ext(cos))\n",
    "    ext_sin = signed(ext(sin))\n",
    "    xs += [r*ext_cos]\n",
    "    ys += [r*ext_sin]\n",
    "    print(i, hex(sin), hex(cos), hex(ext(cos)), hex(ext(sin)))\n",
    "    print(hex(r*ext_cos), hex(r*ext_sin))\n",
    "plt.scatter(xs, ys)\n",
    "print(xs,ys)"
   ]
  },
  {
   "cell_type": "code",
   "execution_count": 250,
   "id": "8addc8c6",
   "metadata": {},
   "outputs": [
    {
     "data": {
      "text/plain": [
       "23"
      ]
     },
     "execution_count": 250,
     "metadata": {},
     "output_type": "execute_result"
    }
   ],
   "source": [
    "0x17"
   ]
  },
  {
   "cell_type": "code",
   "execution_count": 247,
   "id": "f64a634c",
   "metadata": {},
   "outputs": [
    {
     "name": "stdout",
     "output_type": "stream",
     "text": [
      "[-587800, -1202400, -1768800, -2265400, -2672800, -2975600, -3162200, -3225200, -3162200, -2975600, -2672800, -2265400, -1768800, -1202400, -587800, 0, 639200, 1253800, 1820200, 2316800, 2724200, 3027000, 3213600] [-3162200, -2975600, -2672800, -2265400, -1768800, -1202400, -587800, 0, 639200, 1253800, 1820200, 2316800, 2724200, 3027000, 3213600, 3276600, 3213600, 3027000, 2724200, 2316800, 1820200, 1253800, 639200]\n"
     ]
    },
    {
     "data": {
      "image/png": "[encoded data removed]",
      "text/plain": [
       "<Figure size 432x288 with 1 Axes>"
      ]
     },
     "metadata": {
      "needs_background": "light"
     },
     "output_type": "display_data"
    }
   ],
   "source": [
    "from matplotlib import pyplot as plt\n",
    "\n",
    "addb = lambda a,b: (a & 0xFF00) | (a + b) & 0xFF\n",
    "ext = lambda x: x | 0xFF00 if (x & 0x80) else x & 0xFF\n",
    "signed = lambda x: x-0xFFFF if x > 0x8000 else x\n",
    "\n",
    "\n",
    "r=200\n",
    "xs=[]\n",
    "ys=[]\n",
    "for i in range(39,16,-1):\n",
    "    sin = int_sines[i << 3]\n",
    "    cos = int_sines[(i << 3) + 0x40]\n",
    "    xs += [r*cos]\n",
    "    ys += [r*sin]\n",
    "plt.scatter(xs, ys)\n",
    "print(xs,ys)"
   ]
  },
  {
   "cell_type": "code",
   "execution_count": null,
   "id": "4f494843",
   "metadata": {},
   "outputs": [],
   "source": [
    "\n",
    "\n",
    "\n",
    "\n",
    "\n",
    "\n",
    "\n",
    "\n",
    "\n",
    "\n",
    "\n",
    "\n",
    "\n",
    "\n",
    "\n"
   ]
  }
 ],
 "metadata": {
  "kernelspec": {
   "display_name": "Python 3 (ipykernel)",
   "language": "python",
   "name": "python3"
  },
  "language_info": {
   "codemirror_mode": {
    "name": "ipython",
    "version": 3
   },
   "file_extension": ".py",
   "mimetype": "text/x-python",
   "name": "python",
   "nbconvert_exporter": "python",
   "pygments_lexer": "ipython3",
   "version": "3.10.12"
  }
 },
 "nbformat": 4,
 "nbformat_minor": 5
}
