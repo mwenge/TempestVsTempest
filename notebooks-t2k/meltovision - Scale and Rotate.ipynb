{
 "cells": [
  {
   "cell_type": "markdown",
   "id": "456a616b",
   "metadata": {},
   "source": [
    "# Display objects/screens in the object list"
   ]
  },
  {
   "cell_type": "markdown",
   "id": "615bc624",
   "metadata": {},
   "source": [
    " ## Get the Blitter Flags and Data"
   ]
  },
  {
   "cell_type": "code",
   "execution_count": 8,
   "id": "544ccb4e",
   "metadata": {},
   "outputs": [
    {
     "name": "stdout",
     "output_type": "stream",
     "text": [
      "00,13,48,00\n",
      "00,00,01,80\n",
      "00,00,00,F0\n",
      "00,00,01,F4\n",
      "00,00,01,F4\n",
      "00,00,00,FF\n",
      "00,C0,00,00\n",
      "00,78,00,00\n",
      "00,00,00,00\n",
      "00,F8,00,00\n",
      "00,00,00,66\n",
      "00,00,00,22\n",
      "00,00,00,00\n",
      "00,01,07,A8\n",
      "00,01,5A,D4\n"
     ]
    }
   ],
   "source": [
    "gpu_addr = 0xF03F60\n",
    "hex_dump = send_hex_dump_cmd_raw2(gpu_addr,0x3c)\n",
    "print(dump_standard(hex_dump,WIDTH=4))\n"
   ]
  },
  {
   "cell_type": "code",
   "execution_count": null,
   "id": "6088c91c",
   "metadata": {},
   "outputs": [],
   "source": [
    "[\n",
    "0x00134800, # Screen\n",
    "0x00000180, # Destination X width\n",
    "0x000000F0, # Desination Y width\n",
    "0x000001F4, # X scale factor\n",
    "0x000001F4, # y scale factor\n",
    "0x000000FF, # Angle of rotation in brads ff(-1): rotates, 00 no rotation\n",
    "0x00C00000, # Centre of X rotation\n",
    "0x00780000, # Centre of Y rotation\n",
    "0x00000000, # Destination offset\n",
    "0x00F80000, # Delta intensity\n",
    "0x00000066,\n",
    "0x00000022,\n",
    "0x00000000,\n",
    "0x000107A8,\n",
    "0x00015AD4,\n",
    "]"
   ]
  },
  {
   "cell_type": "code",
   "execution_count": null,
   "id": "965f2819",
   "metadata": {},
   "outputs": [],
   "source": [
    "\n",
    "\n",
    "\n",
    "\n",
    "\n",
    "\n",
    "\n",
    "\n",
    "\n",
    "\n",
    "\n",
    "\n",
    "\n",
    "\n",
    "\n",
    "\n",
    "\n",
    "\n",
    "\n"
   ]
  },
  {
   "cell_type": "markdown",
   "id": "feae1a0b",
   "metadata": {},
   "source": [
    "# Rough Work"
   ]
  }
 ],
 "metadata": {
  "kernelspec": {
   "display_name": "Python 3 (ipykernel)",
   "language": "python",
   "name": "python3"
  },
  "language_info": {
   "codemirror_mode": {
    "name": "ipython",
    "version": 3
   },
   "file_extension": ".py",
   "mimetype": "text/x-python",
   "name": "python",
   "nbconvert_exporter": "python",
   "pygments_lexer": "ipython3",
   "version": "3.10.12"
  }
 },
 "nbformat": 4,
 "nbformat_minor": 5
}
