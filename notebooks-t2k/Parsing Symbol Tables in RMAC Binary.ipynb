{
 "cells": [
  {
   "cell_type": "code",
   "execution_count": 71,
   "id": "17a15ad8",
   "metadata": {},
   "outputs": [
    {
     "name": "stdout",
     "output_type": "stream",
     "text": [
      "00 00 01 07 00 00 00 0A\n",
      "00 00 00 00 00 00 00 00\n",
      "00 00 00 24 00 00 00 00\n",
      "00 00 00 00 00 00 00 00\n",
      "FE FE FE FE FE 00 4E 75\n",
      "4E 75 00 00 00 04 04 00\n",
      "00 00 00 00 00 00 00 00\n",
      "00 08 04 00 00 00 00 00\n",
      "00 05 00 00 00 0C 04 00\n",
      "00 00 00 00 00 08 00 00\n",
      "00 10 74 65 73 00 6E 76\n",
      "66 00 6F 76 66 00 00 00\n",
      "00 00\n"
     ]
    }
   ],
   "source": [
    "code = \"\"\"\n",
    "tes: dc.b $FE,$FE,$FE,$FE,$FE\n",
    "\n",
    "nvf:\n",
    "  rts\n",
    "ovf:\n",
    "  rts\n",
    "\"\"\"\n",
    "open(\"test.s\",'w').write(code)\n",
    "!../tempest2k/rmac/rmac -l*testprn -fb -i test.s -o test\n",
    "\n",
    "bs = open(\"test\",'rb').read()\n",
    "for i in range(0,len(bs),8):\n",
    "    print(' '.join([f'{x:0>2X}' for x in bs[i:i+8]]))"
   ]
  },
  {
   "cell_type": "code",
   "execution_count": 72,
   "id": "4b5a91d8",
   "metadata": {},
   "outputs": [
    {
     "name": "stdout",
     "output_type": "stream",
     "text": [
      "Magic number 00000107\n",
      "Text Size 0000000a\n",
      "Data Size 00000000\n",
      "BSS Size 00000000\n",
      "Symbol Size 00000024\n",
      "First Entry 00000000\n",
      "Text Relocation Size 00000000\n",
      "Data Relocation Size 00000000\n",
      "\n",
      "Text fefefefefe004e754e75\n",
      "Data \n",
      "\n",
      "Symbol String Index 00000004\n",
      "Symbol Attribute 04000000\n",
      "Symbol Value 00000000\n",
      "\n",
      "Symbol String Index 00000008\n",
      "Symbol Attribute 04000000\n",
      "Symbol Value 00000005\n",
      "\n",
      "Symbol String Index 0000000c\n",
      "Symbol Attribute 04000000\n",
      "Symbol Value 00000008\n",
      "\n"
     ]
    }
   ],
   "source": [
    "test = open(\"test\",'rb')\n",
    "test.seek(0x00)\n",
    "print(\"Magic number\",test.read(4).hex())\n",
    "text_size = test.read(4)\n",
    "print(\"Text Size\",text_size.hex())\n",
    "data_size = test.read(4)\n",
    "print(\"Data Size\",data_size.hex())\n",
    "print(\"BSS Size\",test.read(4).hex())\n",
    "sym_size = test.read(4)\n",
    "print(\"Symbol Size\",sym_size.hex())\n",
    "print(\"First Entry\",test.read(4).hex())\n",
    "print(\"Text Relocation Size\",test.read(4).hex())\n",
    "print(\"Data Relocation Size\",test.read(4).hex())\n",
    "\n",
    "print()\n",
    "text_size_int = int.from_bytes(text_size, \"big\")\n",
    "print(\"Text\",test.read(text_size_int).hex())\n",
    "data_size_int = int.from_bytes(data_size, \"big\")\n",
    "print(\"Data\",test.read(data_size_int).hex())\n",
    "print()\n",
    "\n",
    "for i in range(0, int.from_bytes(sym_size,\"big\"),12):\n",
    "    print(\"Symbol String Index\",test.read(4).hex())\n",
    "    print(\"Symbol Attribute\",test.read(4).hex())\n",
    "    print(\"Symbol Value\",test.read(4).hex())\n",
    "    print()\n"
   ]
  },
  {
   "cell_type": "code",
   "execution_count": 29,
   "id": "7cf6ada7",
   "metadata": {},
   "outputs": [
    {
     "name": "stdout",
     "output_type": "stream",
     "text": [
      "\r\n",
      " _ __ _ __ ___   __ _  ___ \r\n",
      "| '__| '_ ` _ \\ / _` |/ __|\r\n",
      "| |  | | | | | | (_| | (__ \r\n",
      "|_|  |_| |_| |_|\\__,_|\\___|\r\n",
      "\r\n",
      "Renamed Macro Assembler\r\n",
      "Copyright (C) 199x Landon Dyer, 2011-2021 Reboot and Friends\r\n",
      "V2.1.1 Apr 14 2024 (Linux/OSX)\r\n",
      "\r\n",
      "Usage:\r\n",
      "    ../tempest2k/rmac/rmac [options] srcfile\r\n",
      "\r\n",
      "Options:\r\n",
      "  -? or -h          Display usage information\r\n",
      "  -dsymbol[=value]  Define symbol (with optional value, default=0)\r\n",
      "  -e[errorfile]     Send error messages to file, not stdout\r\n",
      "  -f[format]        Output object file format\r\n",
      "                    a: ALCYON\r\n",
      "                    b: BSD (use this for Jaguar)\r\n",
      "                    e: ELF\r\n",
      "                    p: P56 (use this for DSP56001 only)\r\n",
      "                    l: LOD (use this for DSP56001 only)\r\n",
      "                    x: com/exe/xex (Atari 800)\r\n",
      "                    r: absolute address\r\n",
      "  -i[path]          Directory to search for include files\r\n",
      "  -l[filename]      Create an output listing file\r\n",
      "  -l*[filename]     Create an output listing file without pagination\r\n",
      "  -m[cpu]           Select default CPU. Available options:\r\n",
      "                    68000, 68020, 68030, 68040, 68060, 6502, tom, jerry, 56001\r\n",
      "  -n                Don't do things behind your back in RISC assembler\r\n",
      "  -o file           Output file name\r\n",
      "  +o[value]         Turn a specific optimisation on\r\n",
      "                    Available optimisation values and default settings:\r\n",
      "                    o0: Absolute long addresses to word               (on)\r\n",
      "                    o1: move.l #x,dn/an to moveq                      (on)\r\n",
      "                    o2: Word branches to short                        (on)\r\n",
      "                    o3: Outer displacement 0(an) to (an)              (off)\r\n",
      "                    o4: lea size(An),An to addq #size,An              (off)\r\n",
      "                    o5: 68020+ Absolute long base/outer disp. to word (off)\r\n",
      "                    o6: Null branches to NOP                          (off)\r\n",
      "                    o7: clr.l Dx to moveq #0,Dx                       (off)\r\n",
      "                    o8: adda.w/l #x,Dy to addq.w/l #x,Dy              (off)\r\n",
      "                    o9: adda.w/l #x,Dy to lea x(Dy),Dy                (off)\r\n",
      "                    op: Enforce PC relative                           (off)\r\n",
      "  ~o[value]         Turn a specific optimisation off\r\n",
      "  +oall             Turn all optimisations on\r\n",
      "  ~oall             Turn all optimisations off\r\n",
      "  -p                Create an ST .prg (without symbols). Forces -fa\r\n",
      "  -ps               Create an ST .prg (with symbols). Forces -fa\r\n",
      "  -px               Create an ST .prg (with exsymbols). Forces -fa\r\n",
      "  -r[size]          Pad segments to boundary size specified\r\n",
      "                    w: word (2 bytes, default alignment)\r\n",
      "                    l: long (4 bytes)\r\n",
      "                    p: phrase (8 bytes)\r\n",
      "                    d: double phrase (16 bytes)\r\n",
      "                    q: quad phrase (32 bytes)\r\n",
      "  -s                Warn about possible short branches\r\n",
      "                    and applied optimisations\r\n",
      "  -u                Force referenced and undefined symbols global\r\n",
      "  -v                Set verbose mode\r\n",
      "  -x                Turn on debugging mode\r\n",
      "  -y[pagelen]       Set page line length (default: 61)\r\n",
      "\r\n"
     ]
    }
   ],
   "source": [
    "!../tempest2k/rmac/rmac -help\n"
   ]
  }
 ],
 "metadata": {
  "kernelspec": {
   "display_name": "Python 3 (ipykernel)",
   "language": "python",
   "name": "python3"
  },
  "language_info": {
   "codemirror_mode": {
    "name": "ipython",
    "version": 3
   },
   "file_extension": ".py",
   "mimetype": "text/x-python",
   "name": "python",
   "nbconvert_exporter": "python",
   "pygments_lexer": "ipython3",
   "version": "3.10.12"
  }
 },
 "nbformat": 4,
 "nbformat_minor": 5
}
