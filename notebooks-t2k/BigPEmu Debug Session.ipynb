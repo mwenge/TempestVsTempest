{
 "cells": [
  {
   "cell_type": "markdown",
   "id": "456a616b",
   "metadata": {},
   "source": [
    "# Get data from the BigPEmu Debug Build"
   ]
  },
  {
   "cell_type": "code",
   "execution_count": 8,
   "id": "4e094548",
   "metadata": {},
   "outputs": [],
   "source": [
    "import struct\n",
    "def recv_msg(sock):\n",
    "    # Bigpemu has a 16 bytes header, with the data length\n",
    "    # at positions 4:6\n",
    "    header = recvall(sock, 16)\n",
    "    if not header:\n",
    "        return None\n",
    "    raw_msglen = header[4:6]\n",
    "    if not raw_msglen:\n",
    "        return None\n",
    "    msglen = struct.unpack('<H', raw_msglen)[0]\n",
    "    # Read the message data\n",
    "    return (header, msglen, recvall(sock, msglen))\n",
    "\n",
    "def recvall(sock, n):\n",
    "    # Helper function to recv n bytes or return None if EOF is hit\n",
    "    data = bytearray()\n",
    "    while len(data) < n:\n",
    "        packet = sock.recv(n - len(data))\n",
    "        if not packet:\n",
    "            return None\n",
    "        data.extend(packet)\n",
    "    return data\n",
    "\n",
    "def get_response(sock, num_responses):\n",
    "    # There's a predefined number of responses for each command,\n",
    "    # so we have to specify how many to look for.\n",
    "    resp = []\n",
    "    for i in range(0,num_responses):\n",
    "        data = recv_msg(sock)\n",
    "        if not data:\n",
    "            break\n",
    "        resp += [data]\n",
    "    return resp"
   ]
  },
  {
   "cell_type": "markdown",
   "id": "86fac87c",
   "metadata": {},
   "source": [
    "## Launch BigPEmu and connect to the debug server"
   ]
  },
  {
   "cell_type": "code",
   "execution_count": 1,
   "id": "74d39817",
   "metadata": {},
   "outputs": [],
   "source": [
    "import socket\n",
    "import os\n",
    "import time\n",
    "\n",
    "\n",
    "os.system(\"wine ./BigPEmu_v118-DEV/BigPEmuDev.exe ../tempest2k/t2000.abs &\")\n",
    "time.sleep(5)\n"
   ]
  },
  {
   "cell_type": "code",
   "execution_count": 3,
   "id": "bf439651",
   "metadata": {},
   "outputs": [],
   "source": [
    "import socket\n",
    "import os\n",
    "import time\n",
    "\n",
    "# Launch bigpemu and wait a moment.\n",
    "os.system(\"wine ./BigPEmu_v118-DEV/BigPEmuDev.exe ../tempest2k/t2000.abs &\")\n",
    "time.sleep(5)\n",
    "\n",
    "HOST = \"127.0.0.1\"  # The server's hostname or IP address\n",
    "PORT = 44123  # The port used by the server\n",
    "\n",
    "# Connect to the debug server\n",
    "s = socket.socket(socket.AF_INET, socket.SOCK_STREAM)\n",
    "s.connect((HOST, PORT))\n",
    "\n"
   ]
  },
  {
   "cell_type": "markdown",
   "id": "7f3badee",
   "metadata": {},
   "source": [
    "## Get some basic system info"
   ]
  },
  {
   "cell_type": "code",
   "execution_count": 5,
   "id": "787e7d46",
   "metadata": {},
   "outputs": [],
   "source": [
    "hello  = b\"\\x01\\x00\\x00\\x00\\x08\\x00\\x00\\x00\\x14\\x00\\x00\\x00\" \\\n",
    "         b\"\\x00\\x00\\x00\\x00\\x00\\x00\\x00\\x00\\x03\\x00\\x00\\x00\"\n",
    "\n",
    "s.sendall(hello)\n",
    "response = get_response(s,5)\n"
   ]
  },
  {
   "cell_type": "markdown",
   "id": "692b8b75",
   "metadata": {},
   "source": [
    "## Remove all breakpoints"
   ]
  },
  {
   "cell_type": "code",
   "execution_count": null,
   "id": "36ef0eb5",
   "metadata": {},
   "outputs": [],
   "source": [
    "\"\\x11\\x00\\x00\\x00\\x08\\x00\\x00\\x00\\x27\\x00\\x00\\x00\\x00\\x00\\x00\\x00\" \\\n",
    "\"\\x00\\x00\\x00\\x00\\x00\\x00\\x00\\x00\"\n"
   ]
  },
  {
   "cell_type": "markdown",
   "id": "0a2155d6",
   "metadata": {},
   "source": [
    "## Set breakpoint"
   ]
  },
  {
   "cell_type": "code",
   "execution_count": null,
   "id": "5061d0ab",
   "metadata": {},
   "outputs": [],
   "source": [
    "\"\\x11\\x00\\x00\\x00\\x30\\x00\\x00\\x00\\x28\\x00\\x00\\x00\\x00\\x00\\x00\\x00\" \\\n",
    "\"\\x01\\x00\\x00\\x00\\x00\\x00\\x00\\x0000\\xff\\xff\\xff\\xff\\xff\\xff\\xff\\xff\" \\\n",
    "\"\\x04\\x00\\x00\\x00\\x00\\x00\\x00\\x00\\x00\\x00\\x00\\x00\\x00\\x00\\x00\\x00\" \\\n",
    "\"\\x00\\x00\\x00\\x00\\x00\\x00\\x00\\x00\\x00\\x00\\x00\\x00\\x00\\x00\\x00\\x00\"\n"
   ]
  },
  {
   "cell_type": "markdown",
   "id": "f73706c0",
   "metadata": {},
   "source": [
    "##  Resume?"
   ]
  },
  {
   "cell_type": "code",
   "execution_count": null,
   "id": "25a1a8f5",
   "metadata": {},
   "outputs": [],
   "source": [
    "\"\\x03\\x00\\x00\\x00\\x00\\x00\\x00\\x00\\xd5\\x00\\x00\\x00\\x00\\x00\\x00\\x00\"\n"
   ]
  },
  {
   "cell_type": "markdown",
   "id": "d22a7fae",
   "metadata": {},
   "source": [
    "##  Set two breakpoints"
   ]
  },
  {
   "cell_type": "code",
   "execution_count": null,
   "id": "2235308b",
   "metadata": {},
   "outputs": [],
   "source": [
    "\"\\x11\\x00\\x00\\x00\\x58\\x00\\x00\\x00\\x2b\\x00\\x00\\x00\\x00\\x00\\x00\\x00\" \\\n",
    "\"\\x02\\x00\\x00\\x00\\x00\\x00\\x00\\x00\\xee\\xee\\xee\\xee\\xee\\xee\\xee\\xee\" \\\n",
    "\"\\x04\\x00\\x00\\x00\\x00\\x00\\x00\\x00\\x00\\x00\\x00\\x00\\x00\\x00\\x00\\x00\" \\\n",
    "\"\\x00\\x00\\x00\\x00\\x00\\x00\\x00\\x00\\x00\\x00\\x00\\x00\\x00\\x00\\x00\\x00\" \\\n",
    "\"\\xff\\xff\\xff\\xff\\xff\\xff\\xff\\xff\\x04\\x00\\x00\\x00\\x00\\x00\\x00\\x00\" \\\n",
    "\"\\x00\\x00\\x00\\x00\\x00\\x00\\x00\\x00\\x00\\x00\\x00\\x00\\x00\\x00\\x00\\x00\" \\\n",
    "\"\\x00\\x00\\x00\\x00\\x00\\x00\\x00\\x00\"\n"
   ]
  },
  {
   "cell_type": "markdown",
   "id": "045e552e",
   "metadata": {},
   "source": [
    "##  Remove breakpoint"
   ]
  },
  {
   "cell_type": "code",
   "execution_count": null,
   "id": "a478043b",
   "metadata": {},
   "outputs": [],
   "source": [
    "\"\\x11\\x00\\x00\\x00\\x08\\x00\\x00\\x00\\x29\\x00\\x00\\x00\\x00\\x00\\x00\\x00\" \\\n",
    "\"\\x00\\x00\\x00\\x00\\x00\\x00\\x00\\x00\"\n"
   ]
  },
  {
   "cell_type": "markdown",
   "id": "ec22d772",
   "metadata": {},
   "source": [
    "## Get a disassembly"
   ]
  },
  {
   "cell_type": "code",
   "execution_count": 283,
   "id": "86642219",
   "metadata": {},
   "outputs": [],
   "source": [
    "hello3 = b\"\\x0f\\x00\\x00\\x00\\x18\\x00\\x00\\x00\\x20\\x00\\x00\\x00\\x00\\x00\\x00\\x00\" \\\n",
    "b\"\\x6c\\x36\\xf0\\x00\\x00\\x00\\x00\\x00\\x6c\\x36\\xf0\\x00\\x00\\x00\\x00\\x00\" \\\n",
    "b\"\\xc2\\x00\\x00\\x00\\x00\\x00\\x00\\x00\"\n",
    "\n",
    "s.sendall(hello3)\n",
    "response = get_response(s,1)\n",
    "#print(len(response),response)\n"
   ]
  },
  {
   "cell_type": "markdown",
   "id": "2bedbca3",
   "metadata": {},
   "source": [
    "## Get a memory hex dump"
   ]
  },
  {
   "cell_type": "code",
   "execution_count": 284,
   "id": "e743eeb2",
   "metadata": {},
   "outputs": [
    {
     "name": "stdout",
     "output_type": "stream",
     "text": [
      "15,00,00,00,00,00,00,00,00,C8,9A,00,00,00,00,00,30,08,00,00,00,00,00,00,45,6E,67,69,6E,65,20,4E\n",
      "6F,69,73,65,20,31,20,20,20,20,20,20,00,01,01,AC,00,9A,CD,00,00,11,A0,00,00,9A,CD,02,00,11,9E,00\n",
      "50,6C,61,79,65,72,20,53,68,6F,74,20,4E,6F,72,6D,61,6C,20,32,00,02,01,AC,00,9A,DE,A4,00,08,E8,00\n",
      "00,9A,DE,A4,00,00,00,00,45,6E,67,69,6E,65,20,4E,6F,69,73,65,20,20,20,20,20,20,20,20,00,03,01,AC\n",
      "00,9A,E2,90,00,33,78,00,00,9A,EE,9E,00,25,94,00,50,6C,61,79,65,72,20,44,65,61,74,68,20,20,20,20\n",
      "20,20,20,20,00,04,00,D6,00,00,00,00,00,54,9A,00,00,00,00,00,00,00,00,00,50,6C,61,79,65,72,20,44\n",
      "65,61,74,68,20,32,20,20,20,20,20,20,00,05,01,AC,00,00,00,00,00,24,58,00,00,00,00,00,00,00,00,00\n",
      "50,6C,61,79,65,72,20,53,68,6F,74,20,4E,6F,72,6D,61,6C,20,20,00,06,01,AC,00,9B,16,0C,00,07,A4,00\n",
      "00,9B,16,0C,00,00,00,00,50,6C,61,79,65,72,20,4A,75,6D,70,20,20,20,20,20,20,20,20,20,00,07,01,AC\n",
      "00,9B,1D,B4,00,18,DE,00,00,9B,1D,B4,00,00,00,00,43,72,61,63,6B,6C,65,20,20,20,20,20,20,20,20,20\n",
      "20,20,20,20,00,08,00,D6,00,9B,36,96,00,45,94,00,00,9B,36,96,00,00,00,00,43,6C,65,61,72,65,64,20\n",
      "4C,65,76,65,6C,20,20,20,20,20,20,20,00,09,01,AC,00,9B,7C,2E,00,37,A2,00,00,9B,7C,2E,00,00,00,00\n",
      "57,61,72,70,20,20,20,20,20,20,20,20,20,20,20,20,20,20,20,20,00,0A,02,38,00,9B,B3,D4,00,6E,C8,00\n",
      "00,9B,B3,D4,00,00,00,00,4C,61,72,67,65,20,45,78,70,6C,6F,73,69,6F,6E,20,20,20,20,20,00,0B,01,AC\n",
      "00,9C,22,A0,00,50,C2,00,00,9C,22,A0,00,00,00,00,50,6F,77,65,72,65,64,20,55,70,20,53,68,6F,74,20\n",
      "20,20,20,20,00,0C,01,AC,00,9C,73,66,00,19,76,00,00,9C,73,66,00,00,00,00,47,65,74,20,50,6F,77,65\n",
      "72,20,55,70,20,20,20,20,20,20,20,20,00,0D,01,AC,00,9C,8C,E0,00,1A,EA,00,00,9C,8C,E0,00,00,00,00\n",
      "54,69,6E,6B,20,46,6F,72,20,53,70,69,6B,65,20,20,20,20,20,20,00,0E,00,FE,00,9C,A7,CE,00,04,0E,00\n",
      "00,9C,A7,CE,00,00,00,00,4E,4D,45,20,41,74,20,54,6F,70,20,4F,66,20,57,65,62,20,20,20,00,0F,01,AC\n",
      "00,9C,AB,E0,00,00,1E,00,00,9C,AB,E0,00,00,00,00,50,75,6C,73,65,20,46,6F,72,20,50,75,6C,73,61,72\n",
      "20,20,20,20,00,10,03,58,00,9C,AC,02,00,19,FE,00,00,9C,AC,02,00,00,00,00,4E,6F,72,6D,61,6C,20,45\n",
      "78,70,6C,6F,73,69,6F,6E,20,20,20,20,00,11,00,D6,00,9C,C6,04,00,2A,B6,00,00,9C,C6,04,00,00,00,00\n",
      "45,78,74,72,61,20,45,78,70,6C,6F,73,69,6F,6E,20,20,20,20,20,00,12,03,58,00,9C,F0,BE,00,18,CA,00\n",
      "00,9C,F0,BE,00,00,00,00,53,74,61,74,69,63,20,6F,72,20,50,75,6C,73,61,72,20,20,20,20,00,13,01,1C\n",
      "00,9D,09,8C,00,3F,E4,00,00,9D,09,8C,00,00,00,00,50,75,6C,73,61,72,20,50,75,6C,73,65,20,20,20,20\n",
      "20,20,20,20,00,14,03,58,00,9D,49,74,00,0F,0C,00,00,9D,49,74,00,00,00,00,4F,66,66,20,53,68,69,65\n",
      "6C,64,65,64,20,4E,4D,45,20,20,20,20,00,15,00,AA,00,9D,58,84,00,27,CA,00,00,9D,58,84,00,00,00,00\n",
      "45,78,63,65,6C,6C,65,6E,74,20,20,20,20,20,20,20,20,20,20,20,00,16,02,00,00,9D,80,52,00,59,76,00\n",
      "00,9D,80,52,00,00,00,00,53,75,70,65,72,7A,61,70,70,65,72,20,52,65,63,68,61,72,67,65,00,16,02,00\n",
      "00,9D,D9,CC,00,A9,58,00,00,9D,D9,CC,00,00,00,00,79,65,73,20,20,20,20,20,20,20,20,20,20,20,20,20\n",
      "20,20,20,20,00,18,02,00,00,9E,83,28,00,5A,6C,00,00,9E,83,2A,00,5A,6A,00,6F,6E,65,75,70,20,20,20\n",
      "20,20,20,20,20,20,20,20,20,20,20,20,00,19,02,00,00,9E,DD,98,00,43,AE,00,00,9E,DD,98,00,00,00,00\n",
      "73,63,72,65,65,65,61,6D,20,20,20,20,20,20,20,20,20,20,20,20,00,1A,02,00,00,9F,21,4A,00,45,68,00\n",
      "00,9F,21,4A,00,00,00,00,73,65,78,79,20,79,65,73,20,31,20,20,20,20,20,20,20,20,20,20,00,1B,02,00\n",
      "00,9F,66,B6,00,2C,54,00,00,9F,66,B6,00,00,00,00,73,65,78,79,20,79,65,73,20,32,20,20,20,20,20,20\n",
      "20,20,20,20,00,1C,02,00,00,9F,93,62,00,32,36,00,00,9F,93,62,00,00,00,00,74,69,6E,6B,20,20,20,20\n",
      "20,20,20,20,20,20,20,20,20,20,20,20,00,1E,02,00,00,9F,C5,9C,00,05,CE,00,00,9F,C5,9C,00,00,00,00\n",
      "7A,65,72,6F,20,20,20,20,20,20,20,20,20,20,20,20,20,20,20,20,00,1F,02,00,00,9F,CB,6E,00,00,08,00\n",
      "00,9F,CB,6E,00,00,00,00,64,75,6D,6D,79,20,20,20,20,20,20,20,20,20,20,20,20,20,20,20,00,20,02,00\n",
      "00,9F,CB,7A,00,A1,D8,00,00,9F,CB,7A,00,00,00,00,02,02,FE,0D,04,04,0B,00,FB,00,0C,FF,FF,07,08,F9\n",
      "01,05,F2,FE,0F,17,0D,13,0B,02,05,FB,F1,E7,FB,0A,0E,1E,13,06,FB,F0,EF,EE,00,00,F8,F6,07,08,0D,0B\n",
      "05,FC,F5,F3,F0,00,0A,04,F8,E5,CE,D8,EF,ED,F5,F2,DF,FA,03,0A,18,0E,FF,05,FB,F4,F9,08,0A,18,17,1D\n",
      "1B,19,21,21,06,01,F6,F9,F9,05,0A,05,FE,07,06,06,0C,0E,02,08,FE,FE,FE,07,0F,04,12,00,FE,F7,F9,E3\n",
      "D8,E6,EA,F6,FD,F8,DF,D3,D7,D6,DC,F9,01,0E,1B,10,11,FC,F5,F2,F1,F3,EF,F3,FF,F0,F2,FA,E1,E6,DF,F0\n",
      "EB,DB,E8,DB,E1,E6,E6,E4,E0,E6,EA,F2,F6,08,0A,1B,17,0F,0A,05,F9,FA,F4,FA,FD,FC,0C,15,16,0A,10,0C\n",
      "09,06,07,00,F9,F5,F6,F4,F5,E7,E5,E0,D8,DD,F5,FF,FA,05,09,F6,EA,EF,E4,DC,E7,F1,F6,0A,05,F9,F4,FC\n",
      "0F,1E,2B,2A,20,16,0E,0D,05,FF,F6,F5,E7,EE,F2,F6,08,11,15,15,1D,1D,15,11,03,F5,F2,ED,01,FA,FA,F9\n",
      "EF,F6,FB,F2,F3,ED,F2,FF,00,FD,FC,FE,F0,F8,01,FA,02,02,FE,0D,04,04,0B,00,FB,00,0C,FF,FF,07,08,F9\n",
      "01,05,F2,FE,0F,17,0D,13,0B,02,05,FB,F1,E7,FB,0A,0E,1E,13,06,FB,F0,EF,EE,E7,ED,F2,ED,EA,EA,F6,06\n",
      "04,04,F9,FE,F6,F6,F3,F4,E7,F3,F5,01,F8,01,03,00,FD,FC,EE,DF,EE,F9,FE,07,05,F6,F6,EB,E7,E9,EE,F6\n",
      "EF,F8,F2,EA,FC,F5,FC,07,FF,03,F8,EA,EA,E9,F0,01,FE,F3,F2,F6,F5,03,FB,F6,FF,03,06,18,16,12,16,0B\n",
      "10,15,0E,19,1F,1B,0E,15,09,F9,F3,FA,DE,F9,FD,FF,08,0F,02,07,F6,F7,EA,F2,E5,CE,D3,D5,D6,F5,FF,09\n",
      "08,02,00,08,0B,10,14,1E,0E,08,F9,EB,EB,E9,E6,F5,EE,F1,FB,01,FE,11,06,15,0F,0A,FB,F9,F6,F3,F9,EF\n",
      "E4,E1,E2,D5,D5,DE,F3,FA,0E,1C,04,05,F9,FA,FE,FE,02,F6,EE,FB,12,0E,0B,0A,F9,E6,EE,F8,F0,F9,FA,F6\n",
      "FC,05,15,1E,1F,13,0C,09,F9,06,15,0B,21,23,1B,19,10,FD,07,0E,07,0D,14,0B,05,0C,0B,03,FD,04,01,FF\n",
      "00,F4,EF,EE,F2,F4,F8,02,FE,FC,EF,DF,F2,EA,EF,EF,F5,F9,F5,FF,06,FC,03,05,FB,F0,EC,F7,F8,11,0E,F7\n",
      "E7,E0,E0,ED,FB,FF,00,00,F6,FE,03,01,14,16,13,11,07,FF,04,F7,FD,04,F9,00,04,FA,0B,FE,F7,F3,F2,00\n",
      "02,0C,11,18,15,0F,0C,02,FB,0D,0D,11,10,0F,05,08,14,FF,04,FF,F0,FB,04,FD,F2,F8,ED,F1,02,0C,07,16\n",
      "1F,18,0E,0B,04,F8,01,13,15,1E,1B,13,10,14,15,1A,14,0E,03,05,05,12,09,03,FF,F8,F4,F7,F0,E3,EF,FB\n",
      "0E,14,17,FB,F7,FF,04,0D,13,0E,F8,F9,00,04,11,16,10,FE,EF,E1,E9,EF,FD,04,09,09,01,06,0A,FA,F4,FB\n",
      "EE,ED,F1,F0,F5,FB,05,12,1F,26,14,0B,05,FC,09,FE,09,12,11,1A,23,1B,0C,16,1A,1C,22,20,15,1D,07,F2\n",
      "E8,D8,E4,F0,F7,0C,12,11,2B,28,13,13,09,FF,03,14,1E,1B,1B,2B,1C,0C,0D,01,F2,00,09,FD,01,08,07,03\n",
      "09,0C,FF,08,05,07,00,FC,EF,E4,E5,E8,E0,E3,E6,E6,E4,E4,F3,FA,FF,19,15,06,0D,F7,FD,FB,FB,03,FD,00\n",
      "01,F6,05,01,03,FE,FC,FF,F6,EB,EA,EA,E3,F6,FB,02,FD,01,07,10,14,1B,0F,FE,F9,EE,00,03,FC,FF,0B,FD\n",
      "12,15,0F,19,0B,FD,FE,00,0B,1E,22,24,23,1A,18,12,04,FA,F1,E5,E2,EC,F4,F6,02,F2,EA,F1,F4,EA,EA,E5\n",
      "E0,F4,FC,13,0F,13,09,FE,F1,FE,F2,F7,F0,EA,EF,FA,F9,F4,FC,01,07,10,18,0D,08,02,FE,F5,F5,F1,FA,04\n",
      "07,07,0E,10,0E,08,05,F5\n"
     ]
    }
   ],
   "source": [
    "\"\"\"\n",
    "Code starts 802000\n",
    "\"\"\"\n",
    "# The address to start at\n",
    "from_addr = 0x00802000\n",
    "from_addr = struct.pack('<I', from_addr)\n",
    "# The number of bytes to fetch\n",
    "dump_len = 0x0830\n",
    "dump_len = struct.pack('<H', dump_len)\n",
    "\n",
    "hex_dump = \\\n",
    "b\"\\x0c\\x00\\x00\\x00\\x10\\x00\\x00\\x00\\x15\\x00\\x00\\x00\\x00\\x00\\x00\\x00\" \\\n",
    "+ from_addr + \\\n",
    "b\"\\x00\\x00\\x00\\x00\" \\\n",
    "+ dump_len + \\\n",
    "b\"\\x00\\x00\\x00\\x00\\x00\\x00\"\n",
    "\n",
    "s.sendall(hex_dump)\n",
    "response = get_response(s,1)\n",
    "\n",
    "hex_dump = response[0][2]\n",
    "WIDTH=32\n",
    "mem = '\\n'.join([\n",
    "    ','.join(['{:02X}'.format(x) for x in hex_dump[l:l+WIDTH]]) \n",
    "    for l in range(0,len(hex_dump),WIDTH)\n",
    "])\n",
    "print(mem)"
   ]
  },
  {
   "cell_type": "markdown",
   "id": "14e848d7",
   "metadata": {},
   "source": [
    "\n",
    "\n",
    "\n",
    "\n",
    "\n",
    "\n",
    "\n",
    "\n",
    "\n",
    "\n",
    "\n",
    "\n",
    "\n",
    "\n",
    "\n",
    "\n"
   ]
  }
 ],
 "metadata": {
  "kernelspec": {
   "display_name": "Python 3 (ipykernel)",
   "language": "python",
   "name": "python3"
  },
  "language_info": {
   "codemirror_mode": {
    "name": "ipython",
    "version": 3
   },
   "file_extension": ".py",
   "mimetype": "text/x-python",
   "name": "python",
   "nbconvert_exporter": "python",
   "pygments_lexer": "ipython3",
   "version": "3.10.12"
  }
 },
 "nbformat": 4,
 "nbformat_minor": 5
}
