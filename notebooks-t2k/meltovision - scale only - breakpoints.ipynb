{
 "cells": [
  {
   "cell_type": "markdown",
   "id": "456a616b",
   "metadata": {},
   "source": [
    "# Display objects/screens in the object list"
   ]
  },
  {
   "cell_type": "code",
   "execution_count": 1,
   "id": "e743eeb2",
   "metadata": {},
   "outputs": [],
   "source": [
    "import bigpemu_debug as bigp\n",
    "import struct\n",
    "\n",
    "\"\"\"\n",
    "Code starts 0x00192000\n",
    "\"\"\"\n",
    "locations = {\n",
    "    # The address to start at\n",
    "    # The number of bytes to fetch\n",
    "    \"ddlist\":     (0xEF9A,8),\n",
    "}\n",
    "\n",
    "def send_hex_dump_cmd_raw(from_addr,dump_len,responses=1):\n",
    "    from_addr = struct.pack('<I', from_addr)\n",
    "    dump_len = struct.pack('<H', dump_len)\n",
    "\n",
    "    hex_dump = \\\n",
    "    b\"\\x0c\\x00\\x00\\x00\\x10\\x00\\x00\\x00\\xff\\x00\\x00\\x00\\x00\\x00\\x00\\x00\" \\\n",
    "    + from_addr + b\"\\x00\\x00\\x00\\x00\" + dump_len + b\"\\x00\\x00\\x00\\x00\\x00\\x00\"\n",
    "\n",
    "    s.sendall(hex_dump)\n",
    "    response = bigp.get_response(s,responses)\n",
    "    return response[0][2][24:] # Snip header\n",
    "\n",
    "def send_hex_dump_cmd(location):\n",
    "    from_addr,dump_len = locations[location]\n",
    "    from_addr = struct.pack('<I', from_addr)\n",
    "    dump_len = struct.pack('<H', dump_len)\n",
    "\n",
    "    hex_dump = \\\n",
    "    b\"\\x0c\\x00\\x00\\x00\\x10\\x00\\x00\\x00\\xff\\x00\\x00\\x00\\x00\\x00\\x00\\x00\" \\\n",
    "    + from_addr + b\"\\x00\\x00\\x00\\x00\" + dump_len + b\"\\x00\\x00\\x00\\x00\\x00\\x00\"\n",
    "\n",
    "    s.sendall(hex_dump)\n",
    "    response = bigp.get_response(s,1)\n",
    "    return response[0][2][24:] # Snip header\n",
    "\n",
    "def dump_standard(hex_dump,WIDTH=32):\n",
    "    mem = '\\n'.join([\n",
    "        ','.join(['{:02X}'.format(x) for x in hex_dump[l:l+WIDTH]]) \n",
    "        for l in range(0,len(hex_dump),WIDTH)\n",
    "    ])\n",
    "    return mem\n",
    "\n",
    "def hoover_up():\n",
    "    resp = []\n",
    "    while True:\n",
    "        try:\n",
    "            data = bigp.recv_msg(s)\n",
    "        except (socket.error):\n",
    "            break\n",
    "        resp += [data]\n",
    "    return resp\n",
    "\n",
    "\n",
    "        "
   ]
  },
  {
   "cell_type": "markdown",
   "id": "3103e511",
   "metadata": {},
   "source": [
    "## Launch BigPEmu and connect to the debug server"
   ]
  },
  {
   "cell_type": "code",
   "execution_count": 8,
   "id": "6ef1ea1f",
   "metadata": {},
   "outputs": [
    {
     "data": {
      "text/plain": [
       "0"
      ]
     },
     "execution_count": 8,
     "metadata": {},
     "output_type": "execute_result"
    }
   ],
   "source": [
    "import socket\n",
    "import fcntl,os\n",
    "import time\n",
    "\n",
    "# Launch bigpemu and wait a moment.\n",
    "os.system(\"wine ./BigPEmu_v118-DEV/BigPEmuDev.exe ../tempest2k/t2000.abs &\")\n",
    "time.sleep(5)\n",
    "\n",
    "HOST = \"127.0.0.1\"  # The server's hostname or IP address\n",
    "PORT = 44123  # The port used by the server\n",
    "\n",
    "# Connect to the debug server\n",
    "try:\n",
    "    s.shutdown(socket.SHUT_RDWR)\n",
    "except:\n",
    "    pass\n",
    "try:\n",
    "    s.close()\n",
    "except:\n",
    "    pass\n",
    "time.sleep(1)\n",
    "s = socket.socket(socket.AF_INET, socket.SOCK_STREAM)\n",
    "s.connect((HOST, PORT))\n",
    "fcntl.fcntl(s, fcntl.F_SETFL, os.O_NONBLOCK)\n"
   ]
  },
  {
   "cell_type": "code",
   "execution_count": 9,
   "id": "3742d322",
   "metadata": {},
   "outputs": [],
   "source": [
    "import bigpemu_debug as bigp\n",
    "import struct\n",
    "\n",
    "\"\"\"\n",
    "Set a breakpoint in 'scar' in antelope.gas at f035e4.\n",
    "\"\"\"\n",
    "breakpoint = b\"\\x11\\x00\\x00\\x00\\x30\\x00\\x00\\x00\\xff\\x00\\x00\\x00\\x00\\x00\\x00\\x00\" \\\n",
    "            b\"\\x01\\x00\\x00\\x00\\x00\\x00\\x00\\x00\\xe4\\x35\\xf0\\x00\\x00\\x00\\x00\\x00\" \\\n",
    "            b\"\\x04\\x00\\x00\\x00\\x00\\x00\\x00\\x00\\x00\\x00\\x00\\x00\\x00\\x00\\x00\\x00\" \\\n",
    "            b\"\\x00\\x00\\x00\\x00\\x00\\x00\\x00\\x00\\x00\\x00\\x00\\x00\\x00\\x00\\x00\\x00\"\n",
    "\n",
    "s.sendall(breakpoint)\n",
    "response = hoover_up()\n"
   ]
  },
  {
   "cell_type": "code",
   "execution_count": 33,
   "id": "cbfaa967",
   "metadata": {},
   "outputs": [],
   "source": [
    "resume = b\"\\x03\\x00\\x00\\x00\\x00\\x00\\x00\\x00\\x00\\x00\\x00\\x00\\x00\\x00\\x00\\x00\"\n",
    "s.sendall(resume)\n",
    "response = hoover_up()\n"
   ]
  },
  {
   "cell_type": "code",
   "execution_count": 32,
   "id": "f9d2ff42",
   "metadata": {},
   "outputs": [],
   "source": [
    "removeall = b\"\\x11\\x00\\x00\\x00\\x08\\x00\\x00\\x00\\xff\\x00\\x00\\x00\\x00\\x00\\x00\\x00\" \\\n",
    "            b\"\\x00\\x00\\x00\\x00\\x00\\x00\\x00\\x00\"\n",
    "s.sendall(removeall)\n",
    "response = hoover_up()\n"
   ]
  },
  {
   "cell_type": "code",
   "execution_count": 86,
   "id": "83511332",
   "metadata": {},
   "outputs": [
    {
     "name": "stdout",
     "output_type": "stream",
     "text": [
      "00,00,84,7A\n",
      "6B,00,21,D0\n",
      "20,79,00,00\n",
      "84,80,20,39\n"
     ]
    }
   ],
   "source": [
    "gpu_addr = 0x80c3d4\n",
    "response = hoover_up()\n",
    "hex_dump = send_hex_dump_cmd_raw(gpu_addr,0x10)\n",
    "print(dump_standard(hex_dump,WIDTH=4))\n"
   ]
  },
  {
   "cell_type": "code",
   "execution_count": 16,
   "id": "49bf46d6",
   "metadata": {},
   "outputs": [
    {
     "name": "stdout",
     "output_type": "stream",
     "text": [
      "00,13,48,00\n",
      "00,00,01,80\n",
      "00,00,00,F0\n",
      "00,00,01,F4\n",
      "00,00,01,F4\n",
      "00,00,00,00\n",
      "00,C0,00,00\n",
      "00,78,00,00\n",
      "00,00,00,00\n",
      "00,F8,00,00\n",
      "01,10,00,00\n",
      "00,00,00,00\n",
      "00,00,00,00\n",
      "00,01,3E,B8\n",
      "00,01,79,22\n"
     ]
    }
   ],
   "source": [
    "gpu_addr = 0xF03F60\n",
    "hex_dump = send_hex_dump_cmd_raw(gpu_addr,0x3c)\n",
    "print(dump_standard(hex_dump,WIDTH=4))\n"
   ]
  },
  {
   "cell_type": "code",
   "execution_count": 88,
   "id": "cb248b73",
   "metadata": {},
   "outputs": [
    {
     "name": "stdout",
     "output_type": "stream",
     "text": [
      "[(bytearray(b'\\x07\\x00\\x00\\x00T\\x00\\x00\\x00K\\x00\\x00\\x00\\x00\\x00\\x00\\x00'), 84, bytearray(b'\\x15\\x00\\x00\\x00\\x00\\x00\\x00\\x00`?\\xf0\\x00\\x00\\x00\\x00\\x00<\\x00\\x00\\x00\\x00\\x00\\x00\\x00\\x00\\x10\\x00\\x00\\x00\\x00\\x01\\x80\\x00\\x00\\x00\\xf0\\x00\\x00\\x01\\xf4\\x00\\x00\\x01\\xf4\\x00\\x00\\x00\\xff\\x00\\xc0\\x00\\x00\\x00x\\x00\\x00\\x00\\x00\\x00\\x00\\x00\\xf8\\x00\\x00\\x00\\x00\\x00f\\x00\\x00\\x00\"\\x00\\x00\\x00\\x00\\x00\\x01\\x07\\xa8\\x00\\x01Z\\xd4'))]\n"
     ]
    }
   ],
   "source": [
    "from_addr = 0xF02200\n",
    "dump_len = 0x3c\n",
    "from_addr = struct.pack('<I', from_addr)\n",
    "dump_len = struct.pack('<H', dump_len)\n",
    "\n",
    "hex_dump = \\\n",
    "b\"\\x0c\\x00\\x00\\x00\\x10\\x00\\x00\\x00\\x15\\x00\\x00\\x00\\x00\\x00\\x00\\x00\" \\\n",
    "+ from_addr + b\"\\x00\\x00\\x00\\x00\" + dump_len + b\"\\x00\\x00\\x00\\x00\\x00\\x00\"\n",
    "\n",
    "s.sendall(hex_dump)\n",
    "response = bigp.get_response(s,1)\n",
    "print(response)\n",
    "\n"
   ]
  },
  {
   "cell_type": "code",
   "execution_count": null,
   "id": "965f2819",
   "metadata": {},
   "outputs": [],
   "source": [
    "\n",
    "\n",
    "\n",
    "\n",
    "\n",
    "\n",
    "\n",
    "\n",
    "\n",
    "\n",
    "\n",
    "\n",
    "\n",
    "\n",
    "\n",
    "\n",
    "\n",
    "\n",
    "\n"
   ]
  },
  {
   "cell_type": "markdown",
   "id": "feae1a0b",
   "metadata": {},
   "source": [
    "# Rough Work"
   ]
  },
  {
   "cell_type": "code",
   "execution_count": 81,
   "id": "437ad1c8",
   "metadata": {},
   "outputs": [
    {
     "data": {
      "text/plain": [
       "'0x7'"
      ]
     },
     "execution_count": 81,
     "metadata": {},
     "output_type": "execute_result"
    }
   ],
   "source": [
    "hex(0xfff - 4088)"
   ]
  }
 ],
 "metadata": {
  "kernelspec": {
   "display_name": "Python 3 (ipykernel)",
   "language": "python",
   "name": "python3"
  },
  "language_info": {
   "codemirror_mode": {
    "name": "ipython",
    "version": 3
   },
   "file_extension": ".py",
   "mimetype": "text/x-python",
   "name": "python",
   "nbconvert_exporter": "python",
   "pygments_lexer": "ipython3",
   "version": "3.10.12"
  }
 },
 "nbformat": 4,
 "nbformat_minor": 5
}
