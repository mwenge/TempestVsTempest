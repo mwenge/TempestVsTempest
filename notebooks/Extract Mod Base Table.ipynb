{
 "cells": [
  {
   "cell_type": "code",
   "execution_count": 51,
   "id": "ef529d07",
   "metadata": {},
   "outputs": [
    {
     "data": {
      "text/plain": [
       "'0x1c'"
      ]
     },
     "execution_count": 51,
     "metadata": {},
     "output_type": "execute_result"
    }
   ],
   "source": [
    "hex(28)"
   ]
  },
  {
   "cell_type": "code",
   "execution_count": 11,
   "id": "117c782d",
   "metadata": {},
   "outputs": [
    {
     "name": "stdout",
     "output_type": "stream",
     "text": [
      ".dc.l modbase + $100\n",
      ".dc.l modbase + $18d2c\n",
      ".dc.l modbase + $37a04\n",
      ".dc.l modbase + $5bd7c\n",
      ".dc.l modbase + $80b22\n",
      ".dc.l modbase + $99d72\n",
      ".dc.l modbase + $b0a50\n",
      ".dc.l modbase + $x8d6800\n"
     ]
    }
   ],
   "source": [
    "beasty = \"../tempest2k/src/images/beasty8-xtra.cry\"\n",
    "syn6 = open(beasty,'rb')\n",
    "syn6.seek(0x1f400)\n",
    "\n",
    "modbase = 0x8d6800\n",
    "\n",
    "for i in range(0,8):\n",
    "    offset = hex(int.from_bytes(syn6.read(4),\"big\") - modbase)\n",
    "    print(f\".dc.l modbase + ${offset[2:]}\")\n",
    "\n",
    "for i in range(0,8):\n",
    "    offset = hex(int.from_bytes(syn6.read(4),\"big\") - modbase)\n",
    "    print(f\".dc.l modbase + ${offset[2:]}\")\n"
   ]
  },
  {
   "cell_type": "code",
   "execution_count": 52,
   "id": "0dcc3dae",
   "metadata": {},
   "outputs": [
    {
     "data": {
      "text/plain": [
       "8568"
      ]
     },
     "execution_count": 52,
     "metadata": {},
     "output_type": "execute_result"
    }
   ],
   "source": [
    "open(\"syn6.bin\",'wb').write(text_data)\n"
   ]
  }
 ],
 "metadata": {
  "kernelspec": {
   "display_name": "Python 3 (ipykernel)",
   "language": "python",
   "name": "python3"
  },
  "language_info": {
   "codemirror_mode": {
    "name": "ipython",
    "version": 3
   },
   "file_extension": ".py",
   "mimetype": "text/x-python",
   "name": "python",
   "nbconvert_exporter": "python",
   "pygments_lexer": "ipython3",
   "version": "3.10.12"
  }
 },
 "nbformat": 4,
 "nbformat_minor": 5
}
