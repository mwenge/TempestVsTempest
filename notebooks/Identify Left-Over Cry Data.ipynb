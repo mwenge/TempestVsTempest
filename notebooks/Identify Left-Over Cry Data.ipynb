{
 "cells": [
  {
   "cell_type": "markdown",
   "id": "3969f96f",
   "metadata": {},
   "source": [
    "## Identify the source of the orphaned data fragment in images_sounds.s"
   ]
  },
  {
   "cell_type": "code",
   "execution_count": 11,
   "id": "cf853328",
   "metadata": {},
   "outputs": [
    {
     "data": {
      "text/plain": [
       "'e37b0000e37bfbabfb97f05ff053f053f053f047f047f047f03ff03ff03ff033f033f033f027f027f027f01ff01ff01ff013f013f013f00bfcbbebcb00000000000000000000e37b000000000000000000000000000000000000000000000000000000000000000000000000000000000000000000000000'"
      ]
     },
     "execution_count": 11,
     "metadata": {},
     "output_type": "execute_result"
    }
   ],
   "source": [
    "binary = open(\"../tempest2k/src/bin/images_sounds.o\",'rb')\n",
    "binary.seek(0xb67f6)\n",
    "padding_data = binary.read(120)\n",
    "padding_data.hex()"
   ]
  },
  {
   "cell_type": "code",
   "execution_count": 10,
   "id": "7ae1cf73",
   "metadata": {},
   "outputs": [],
   "source": [
    "import os\n",
    "cry_data = {f:open(f\"cry/{f}\",'rb').read()\n",
    "             for f in os.listdir('cry')\n",
    "             if f.endswith(\"cry\")\n",
    "            }"
   ]
  },
  {
   "cell_type": "code",
   "execution_count": null,
   "id": "a8c8b0f7",
   "metadata": {},
   "outputs": [],
   "source": [
    "def getTuneWithBytes(bs):\n",
    "    matches = []\n",
    "    for n in tune_data:\n",
    "        if bs in tune_data[n]:\n",
    "            matches += [n]\n",
    "    return matches"
   ]
  },
  {
   "cell_type": "code",
   "execution_count": 15,
   "id": "6d573ebf",
   "metadata": {},
   "outputs": [
    {
     "name": "stdout",
     "output_type": "stream",
     "text": [
      "beasty8.cry 0xf466\n"
     ]
    }
   ],
   "source": [
    "for n,d in cry_data.items():\n",
    "    if padding_data in d:\n",
    "        print(n, hex(d.index(padding_data)))\n"
   ]
  },
  {
   "cell_type": "code",
   "execution_count": 17,
   "id": "9215e792",
   "metadata": {},
   "outputs": [
    {
     "data": {
      "text/plain": [
       "144"
      ]
     },
     "execution_count": 17,
     "metadata": {},
     "output_type": "execute_result"
    }
   ],
   "source": [
    "import os\n",
    "os.path.getsize('cry/beasty3.cry') - os.path.getsize('cry/beasty3-trunc.cry')"
   ]
  },
  {
   "cell_type": "code",
   "execution_count": 16,
   "id": "33d0ca68",
   "metadata": {},
   "outputs": [
    {
     "data": {
      "text/plain": [
       "801856"
      ]
     },
     "execution_count": 16,
     "metadata": {},
     "output_type": "execute_result"
    }
   ],
   "source": [
    "802000-144"
   ]
  },
  {
   "cell_type": "markdown",
   "id": "cc69ba6c",
   "metadata": {},
   "source": [
    "## Identify the data in paddingaftersamples.bin"
   ]
  },
  {
   "cell_type": "code",
   "execution_count": 53,
   "id": "b0a7ec43",
   "metadata": {},
   "outputs": [
    {
     "data": {
      "text/plain": [
       "'fe02fd01fe01fe00fd03fb05fb01fe02fd02fd01fe00ff0001ffff0000ffffffff00fe01fe02fc04fa04fc04fd03fe01feff0000ff02fe03fd03fd03fd03fc04fd02ffff03fc03ff010001ff04fe03fe03fd03ff01ff010001ff0001000001ff02fe02ff01ff01ff00010100ff03fe000002fd020001000001ff02ff0201000002fe03fd04fd020001ff01ff0100010200ff01ff01ff010001fd04fc04fc00fe01ffff00ff0001fe01fdff01ff0000ff01fe02fe01fe01fefd00ffffffffffffffffff00fe01fe000000fe02fb02fc03fc02ff02fd02fd00fe01fd01fe00fe00feff00fe00fe00ff00ff00fe01feffffff00fe01fe02fd03fc01fdfffd01fd01feff00ffff000000ff01feffffff01ff02fd03fe01fc02fd'"
      ]
     },
     "execution_count": 53,
     "metadata": {},
     "output_type": "execute_result"
    }
   ],
   "source": [
    "binary = open(\"../tempest2k/src/incbin/paddingaftersamples.bin\",'rb')\n",
    "binary.seek(5)\n",
    "padding_data = binary.read(280)\n",
    "padding_data.hex()"
   ]
  },
  {
   "cell_type": "code",
   "execution_count": 47,
   "id": "5ad7cc6f",
   "metadata": {},
   "outputs": [],
   "source": [
    "import os\n",
    "sample_data = {\n",
    "    f:open(f\"Sound Samples/samples/{f}\",'rb').read()\n",
    "    for f in os.listdir('Sound Samples/samples/')\n",
    "}"
   ]
  },
  {
   "cell_type": "code",
   "execution_count": 54,
   "id": "77389b20",
   "metadata": {},
   "outputs": [
    {
     "name": "stdout",
     "output_type": "stream",
     "text": [
      "28 0x28fb\n"
     ]
    }
   ],
   "source": [
    "for n,d in sample_data.items():\n",
    "    if padding_data in d:\n",
    "        print(n, hex(d.index(padding_data)))\n",
    "for n,d in cry_data.items():\n",
    "    if padding_data in d:\n",
    "        print(n, hex(d.index(padding_data)))"
   ]
  }
 ],
 "metadata": {
  "kernelspec": {
   "display_name": "Python 3 (ipykernel)",
   "language": "python",
   "name": "python3"
  },
  "language_info": {
   "codemirror_mode": {
    "name": "ipython",
    "version": 3
   },
   "file_extension": ".py",
   "mimetype": "text/x-python",
   "name": "python",
   "nbconvert_exporter": "python",
   "pygments_lexer": "ipython3",
   "version": "3.10.12"
  }
 },
 "nbformat": 4,
 "nbformat_minor": 5
}
