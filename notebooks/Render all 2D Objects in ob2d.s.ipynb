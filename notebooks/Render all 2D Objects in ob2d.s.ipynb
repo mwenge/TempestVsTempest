{
 "cells": [
  {
   "cell_type": "code",
   "execution_count": 135,
   "id": "494b1745",
   "metadata": {},
   "outputs": [],
   "source": [
    "def getFaceData(face_data, verts):\n",
    "    faces_string = face_data\n",
    "    faces = [x.strip() for x in faces_string.split('\\n') if x.strip()][:-1]\n",
    "    faces = [x.split('\\t')[0].split(' ')[1] for x in faces]\n",
    "    no_faces = int(faces[0])\n",
    "    faces = faces[1:]\n",
    "    print(faces)\n",
    "    pairs_string = verts\n",
    "    pairs = [int(x) for x in pairs_string.split()[1].split(',')]\n",
    "    \n",
    "    vertices = []\n",
    "    intensities = []\n",
    "    colors = []\n",
    "    for i in range(0,len(faces),5):\n",
    "        color = faces[i]\n",
    "        colors += [color]\n",
    "\n",
    "        index1 = int(faces[i+1].split(',')[0].strip('$'))\n",
    "        index2 = int(faces[i+2].split(',')[0].strip('$'))\n",
    "        index3 = int(faces[i+3].split(',')[0].strip('$'))\n",
    "        vertex1 = tuple(pairs[index1*2:(index1*2)+2])\n",
    "        vertex2 = tuple(pairs[index2*2:(index2*2)+2])\n",
    "        vertex3 = tuple(pairs[index3*2:(index3*2)+2])\n",
    "        vertices += [[vertex1,vertex2,vertex3]]\n",
    "\n",
    "        intensity1 = faces[i+1].split(',')[1]\n",
    "        intensity2 = faces[i+2].split(',')[1]\n",
    "        intensity3 = faces[i+3].split(',')[1]\n",
    "        intensities += [(intensity1,intensity2,intensity3)]\n",
    "    return (no_faces, colors, intensities, vertices)"
   ]
  },
  {
   "cell_type": "markdown",
   "id": "ababab02",
   "metadata": {},
   "source": [
    "Had to clean up `obj2d.s` a bit. The claws are split out into a separate file."
   ]
  },
  {
   "cell_type": "code",
   "execution_count": 136,
   "id": "ccb9ef66",
   "metadata": {
    "scrolled": true
   },
   "outputs": [
    {
     "name": "stdout",
     "output_type": "stream",
     "text": [
      "['$f0', '3,$8000', '1,$c000', '0,$ff00', '0', '$f4', '4,$4000', '2,$8000', '0,$c000', '0', '$f4', '5,$8000', '1,$c000', '0,$ff00', '0', '$f0', '6,$4000', '2,$8000', '0,$c000', '0']\n",
      "['$92', '3,$f000', '0,$8000', '7,$4000', '0', '$93', '7,$f000', '4,$8000', '0,$4000', '0', '$92', '0,$f000', '1,$8000', '4,$4000', '0', '$93', '4,$f000', '5,$8000', '1,$4000', '0', '$92', '1,$f000', '2,$8000', '5,$4000', '0', '$93', '5,$f000', '6,$8000', '2,$4000', '0', '$92', '2,$f000', '3,$8000', '6,$4000', '0', '$93', '6,$f000', '7,$8000', '3,$4000', '0', '$f0', '8,$8000', '12,$c000', '14,$ff00', '0', '$30', '9,$4000', '13,$6000', '14,$8f00', '0', '$30', '10,$8000', '12,$c000', '14,$ff00', '0', '$f0', '11,$4000', '13,$6000', '14,$8f00', '0']\n",
      "['$88', '$9,$8000', '$4,$4000', '0,$ffff', '0', '$88', '6,$4000', '10,$6000', '0,$ffff', '0', '$88', '12,$4000', '5,$8000', '0,$ffff', '0', '$88', '3,$8000', '11,$8000', '0,$ffff', '0', '$f0', '3,$8000', '1,$c000', '0,$ff00', '0', '$30', '4,$4000', '2,$6000', '0,$8f00', '0', '$30', '5,$8000', '1,$c000', '0,$ff00', '0', '$f0', '6,$4000', '2,$6000', '0,$8f00', '0', '$f4', '9,$8000', '7,$c000', '0,$ff00', '0', '$34', '8,$4000', '10,$6000', '0,$8f00', '0', '$34', '11,$8000', '7,$c000', '0,$ff00', '0', '$f4', '12,$4000', '8,$6000', '0,$8f00', '0']\n",
      "['$2c', '0,$4000', '1,$8000', '2,$6000', '0', '$2e', '3,$ffff', '1,$8000', '2,$6000', '0']\n",
      "['$2c', '0,$4000', '1,$8000', '2,$6000', '0', '$2e', '3,$ffff', '1,$8000', '2,$6000', '0']\n",
      "['$ff', '0,$ffff', '1,$ffff', '2,$ffff', '0', '$ff', '1,$ffff', '2,$ffff', '3,$ffff', '0', '$ff', '3,$ffff', '4,$ffff', '5,$ffff', '0', '$ff', '4,$ffff', '5,$ffff', '6,$ffff', '0', '$ff', '6,$ffff', '7,$ffff', '8,$ffff', '0', '$ff', '7,$ffff', '8,$ffff', '9,$ffff', '0']\n",
      "['$fd', '0,$8000', '1,$c000', '2,$c000', '0', '$fe', '1,$c000', '2,$c000', '3,$ffff', '0', '$ff', '3,$ffff', '4,$ffff', '5,$ffff', '0', '$ff', '4,$ffff', '5,$ffff', '6,$ffff', '0', '$fe', '6,$ffff', '7,$c000', '8,$c000', '0', '$fd', '7,$c000', '8,$c000', '9,$8000', '0']\n",
      "['$fb', '0,$6000', '1,$a000', '2,$a000', '0', '$fd', '1,$a000', '2,$a000', '3,$e000', '0', '$ff', '3,$e000', '4,$ffff', '5,$ffff', '0', '$ff', '4,$ffff', '5,$ffff', '6,$e000', '0', '$fd', '6,$e000', '7,$a000', '8,$a000', '0', '$fb', '7,$a000', '8,$a000', '9,$6000', '0']\n",
      "['$f9', '0,$4000', '1,$8000', '2,$8000', '0', '$fc', '1,$8000', '2,$8000', '3,$c000', '0', '$ff', '3,$c000', '4,$ffff', '5,$ffff', '0', '$ff', '4,$ffff', '5,$ffff', '6,$c000', '0', '$fc', '6,$c000', '7,$8000', '8,$8000', '0', '$f9', '7,$8000', '8,$8000', '9,$4000', '0']\n",
      "['$f7', '0,$4000', '1,$8000', '2,$8000', '0', '$fb', '1,$8000', '2,$8000', '3,$c000', '0', '$ff', '3,$c000', '4,$ffff', '5,$ffff', '0', '$ff', '4,$ffff', '5,$ffff', '6,$c000', '0', '$fb', '6,$c000', '7,$8000', '8,$8000', '0', '$f7', '7,$8000', '8,$8000', '9,$4000', '0']\n",
      "['$f5', '0,$4000', '1,$8000', '2,$8000', '0', '$fa', '1,$8000', '2,$8000', '3,$c000', '0', '$ff', '3,$c000', '4,$ffff', '5,$ffff', '0', '$ff', '4,$ffff', '5,$ffff', '6,$c000', '0', '$fa', '6,$c000', '7,$8000', '8,$8000', '0', '$f5', '7,$8000', '8,$8000', '9,$4000', '0']\n",
      "['$44', '2,$c000', '1,$ffff', '0,$4000', '0', '$cc', '3,$c000', '1,$ffff', '0,$4000', '0']\n",
      "['$44', '2,$c000', '1,$ffff', '0,$4000', '0']\n",
      "['$aa', '1,$6000', '2,$2000', '0,$ffff', '0', '$aa', '3,$6000', '4,$2000', '0,$ffff', '0', '$aa', '5,$6000', '6,$2000', '0,$ffff', '0', '$aa', '7,$6000', '8,$2000', '0,$ffff', '0']\n",
      "['$8a', '0,$8000', '1,$c000', '2,$ffff', '0', '$8a', '$3,$8000', '4,$c000', '5,$ffff', '0']\n",
      "['$8c', '2,$c000', '1,$ffff', '0,$4000', '0', '$8f', '3,$c000', '1,$ffff', '0,$4000', '0']\n",
      "['$62', '2,$c000', '1,$ffff', '0,$4000', '0', '$66', '3,$c000', '1,$ffff', '0,$4000', '0']\n",
      "['$ef', '0,$ffff', '1,$8000', '2,$ffff', '0', '$ef', '3,$ffff', '4,$ffff', '5,$c000', '0', '$ef', '4,$ffff', '5,$c000', '6,$c000', '0']\n",
      "['$36', '0,$ffff', '1,$8000', '2,$8000', '0', '$39', '0,$ffff', '3,$8000', '4,$8000', '0', '$36', '5,$ffff', '6,$8000', '7,$8000', '0', '$39', '5,$ffff', '8,$8000', '9,$8000', '0']\n",
      "['$fc', '1,$6000', '2,$6000', '0,$ffff', '0', '$fc', '2,$6000', '3,$6000', '0,$ffff', '0', '$fc', '3,$6000', '1,$6000', '0,$ffff', '0']\n",
      "['$f4', '0,$6000', '3,$ffff', '2,$c000', '0', '$f4', '1,$6000', '3,$ffff', '2,$c000', '0']\n",
      "['$88', '0,$ff', '1,$ff', '6,$ff', '0', '$87', '1,$ff', '2,$c0', '6,$ff', '0', '$86', '2,$c0', '3,$80', '6,$ff', '0', '$85', '3,$80', '4,$80', '6,$ff', '0', '$86', '4,$80', '5,$c0', '6,$ff', '0', '$87', '5,$c0', '0,$ff', '6,$ff', '0']\n",
      "['$fd', '0,$8000', '1,$c000', '9,$ff00', '0', '$fe', '1,$c000', '2,$a000', '9,$ff00', '0', '$fd', '3,$a000', '4,$c000', '9,$ff00', '0', '$fe', '4,$c000', '5,$a000', '9,$ff00', '0', '$fd', '6,$a000', '7,$c000', '9,$ff00', '0', '$fe', '7,$c000', '8,$8000', '9,$ff00', '0']\n",
      "['$8d', '0,$8000', '1,$c000', '9,$ff00', '0', '$8e', '1,$c000', '2,$a000', '9,$ff00', '0', '$8d', '3,$a000', '4,$c000', '9,$ff00', '0', '$8e', '4,$c000', '5,$a000', '9,$ff00', '0', '$8d', '6,$a000', '7,$c000', '9,$ff00', '0', '$8e', '7,$c000', '8,$8000', '9,$ff00', '0']\n",
      "['$60', '0,$ff00', '1,$c000', '2,$8000', '0', '$40', '0,$8000', '3,$6000', '2,$4000', '0']\n",
      "['$04', '3,$8000', '1,$c000', '0,$ff00', '0', '$08', '4,$8000', '2,$c000', '0,$ff00', '0', '$08', '5,$8000', '1,$c000', '0,$ff00', '0', '$04', '6,$8000', '2,$c000', '0,$ff00', '0']\n",
      "['$44', '0,$ff00', '1,$8000', '2,$c000', '0', '$66', '5,$ff00', '4,$8000', '2,$c000', '0', '$44', '0,$ff00', '1,$8000', '3,$c000', '0', '$66', '5,$ff00', '4,$8000', '3,$c000', '0']\n",
      "['$cc', '6,$ff00', '1,$4000', '4,$4000', '0', '$cc', '7,$ff00', '1,$4000', '4,$4000', '0', '$44', '0,$ff00', '1,$8000', '2,$c000', '0', '$66', '5,$ff00', '4,$8000', '2,$c000', '0', '$44', '0,$ff00', '1,$8000', '3,$c000', '0', '$66', '5,$ff00', '4,$8000', '3,$c000', '0']\n",
      "['$88', '0,$8000', '1,$4000', '2,$4000', '0', '$88', '0,$8000', '2,$4000', '3,$8000', '0', '$88', '0,$8000', '7,$6000', '4,$6000', '0', '$88', '0,$8000', '3,$8000', '4,$6000', '0', '$88', '7,$6000', '6,$4000', '4,$6000', '0', '$88', '6,$4000', '5,$4000', '4,$6000', '0', '$f0', '8,$c000', '9,$f000', '10,$8000', '0', '$f0', '11,$c000', '12,$f000', '13,$8000', '0']\n",
      "['$bb', '0,$f000', '1,$f000', '2,$c000', '0', '$bc', '1,$f000', '2,$c000', '3,$a000', '0', '$cc', '2,$c000', '3,$a000', '4,$a000', '0', '$66', '5,$a000', '6,$c000', '7,$ffff', '0']\n",
      "['$bb', '0,$f000', '1,$f000', '2,$c000', '0', '$bc', '1,$f000', '2,$c000', '3,$a000', '0', '$cc', '2,$c000', '3,$a000', '4,$a000', '0', '$66', '5,$a000', '6,$c000', '7,$ffff', '0']\n",
      "['$55', '0,$ff00', '1,$c000', '4,$c000', '0', '$5b', '1,$c000', '2,$8000', '5,$8000', '0', '$bb', '2,$8000', '3,$c000', '6,$4000', '0', '$b5', '3,$c000', '0,$ff00', '7,$8000', '0', '$56', '4,$c000', '5,$8000', '1,$c000', '0', '$5c', '5,$8000', '6,$4000', '2,$8000', '0', '$bc', '6,$4000', '7,$8000', '3,$c000', '0', '$b6', '7,$8000', '4,$c000', '0,$f000', '0']\n"
     ]
    }
   ],
   "source": [
    "data = open(\"obj2d_cleaned.s\").read().split(\":\")[1:]\n",
    "\n",
    "poly_data = []\n",
    "for i in range(0,len(data),2):\n",
    "    poly_data += [getFaceData(data[i],data[i+1])]"
   ]
  },
  {
   "cell_type": "code",
   "execution_count": 95,
   "id": "9bec9eef",
   "metadata": {},
   "outputs": [],
   "source": [
    "flatten = lambda l: [e for sublist in l for e in sublist]"
   ]
  },
  {
   "cell_type": "code",
   "execution_count": 134,
   "id": "82403d93",
   "metadata": {},
   "outputs": [
    {
     "data": {
      "image/png": "[encoded data removed]",
      "text/plain": [
       "<Figure size 432x288 with 1 Axes>"
      ]
     },
     "metadata": {
      "needs_background": "light"
     },
     "output_type": "display_data"
    }
   ],
   "source": [
    "from PIL import Image,ImageDraw\n",
    "import matplotlib.pyplot as plt\n",
    "import matplotlib.patches as patches\n",
    "no_faces, colors, intensities, vertices = poly_data[31]\n",
    "\n",
    "# Scale the vertices up * 10 so we get a decent size image.\n",
    "scaled_vertices = [\n",
    "    [(x*10,y*10) for (x,y) in verts]\n",
    "    for verts in vertices\n",
    "]\n",
    "\n",
    "# Get the xs and ys so we can use them in our dimensions\n",
    "\n",
    "xs = [x for (x,y) in flatten(scaled_vertices)]\n",
    "ys = [y for (x,y) in flatten(scaled_vertices)]\n",
    "\n",
    "im = Image.new('RGB', (max(xs)+2, max(ys)+2))\n",
    "draw = ImageDraw.Draw(im)\n",
    "\n",
    "for vertex in scaled_vertices:\n",
    "    draw.polygon(vertex, fill = (255,0,0))\n",
    "fig, ax = plt.subplots()\n",
    "ax.imshow(im)\n",
    "\n",
    "# Only use the vertices for ticks in our graph\n",
    "plt.xticks(list(sorted(set(xs))))\n",
    "plt.yticks(list(sorted(set(ys))))\n",
    "plt.show()"
   ]
  },
  {
   "cell_type": "code",
   "execution_count": null,
   "id": "e71b8b53",
   "metadata": {},
   "outputs": [],
   "source": [
    "\n",
    "\n",
    "\n",
    "\n",
    "\n",
    "\n",
    "\n",
    "\n",
    "\n",
    "\n",
    "\n",
    "\n"
   ]
  }
 ],
 "metadata": {
  "kernelspec": {
   "display_name": "Python 3 (ipykernel)",
   "language": "python",
   "name": "python3"
  },
  "language_info": {
   "codemirror_mode": {
    "name": "ipython",
    "version": 3
   },
   "file_extension": ".py",
   "mimetype": "text/x-python",
   "name": "python",
   "nbconvert_exporter": "python",
   "pygments_lexer": "ipython3",
   "version": "3.10.12"
  }
 },
 "nbformat": 4,
 "nbformat_minor": 5
}
