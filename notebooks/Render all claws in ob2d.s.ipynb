{
 "cells": [
  {
   "cell_type": "code",
   "execution_count": 23,
   "id": "fca20756",
   "metadata": {},
   "outputs": [],
   "source": [
    "def getFaceData(face_data, verts):\n",
    "    faces_string = face_data\n",
    "    faces = [x.strip() for x in faces_string.split('\\n') if x.strip()][:-1]\n",
    "    faces = [x.split('\\t')[0].split(' ')[1] for x in faces]\n",
    "    no_faces = int(faces[0])\n",
    "    faces = (faces[1]+','+faces[2]).split(',')\n",
    "\n",
    "    pairs_string = verts\n",
    "    pairs = [int(x) for x in pairs_string.split()[1].split(',')]\n",
    "\n",
    "    vertices = []\n",
    "    intensities = []\n",
    "    colors = []\n",
    "    for i in range(0,len(faces),8):\n",
    "        color = faces[i]\n",
    "        colors += [color]\n",
    "\n",
    "        index1 = int(faces[i+1])\n",
    "        index2 = int(faces[i+3])\n",
    "        index3 = int(faces[i+5])\n",
    "        vertex1 = tuple(pairs[index1*2:(index1*2)+2])\n",
    "        vertex2 = tuple(pairs[index2*2:(index2*2)+2])\n",
    "        vertex3 = tuple(pairs[index3*2:(index3*2)+2])\n",
    "        vertices += [[vertex1,vertex2,vertex3]]\n",
    "\n",
    "        intensity1 = faces[i+2]\n",
    "        intensity2 = faces[i+4]\n",
    "        intensity3 = faces[i+6]\n",
    "        intensities += [(intensity1,intensity2,intensity3)]\n",
    "    return (no_faces, colors, intensities, vertices)\n"
   ]
  },
  {
   "cell_type": "markdown",
   "id": "90a555b1",
   "metadata": {},
   "source": [
    "Had to clean up `obj2d.s` a bit. The claws are split out into a separate file."
   ]
  },
  {
   "cell_type": "code",
   "execution_count": 35,
   "id": "6da6e8cb",
   "metadata": {
    "scrolled": true
   },
   "outputs": [
    {
     "data": {
      "text/plain": [
       "16"
      ]
     },
     "execution_count": 35,
     "metadata": {},
     "output_type": "execute_result"
    }
   ],
   "source": [
    "data = open(\"claws.s\").read().split(\":\")[1:]\n",
    "\n",
    "poly_data = []\n",
    "for i in range(0,len(data),2):\n",
    "    poly_data += [getFaceData(data[i],data[i+1])]\n",
    "len(poly_data)"
   ]
  },
  {
   "cell_type": "code",
   "execution_count": 25,
   "id": "4458aa8b",
   "metadata": {},
   "outputs": [],
   "source": [
    "flatten = lambda l: [e for sublist in l for e in sublist]"
   ]
  },
  {
   "cell_type": "code",
   "execution_count": 46,
   "id": "82403d93",
   "metadata": {},
   "outputs": [
    {
     "data": {
      "image/png": "[encoded data removed]",
      "text/plain": [
       "<Figure size 432x288 with 1 Axes>"
      ]
     },
     "metadata": {
      "needs_background": "light"
     },
     "output_type": "display_data"
    }
   ],
   "source": [
    "from PIL import Image,ImageDraw\n",
    "import matplotlib.pyplot as plt\n",
    "import matplotlib.patches as patches\n",
    "no_faces, colors, intensities, vertices = poly_data[8]\n",
    "\n",
    "# Scale the vertices up * 10 so we get a decent size image.\n",
    "scaled_vertices = [\n",
    "    [(x*10,y*10) for (x,y) in verts]\n",
    "    for verts in vertices\n",
    "]\n",
    "\n",
    "# Get the xs and ys so we can use them in our dimensions\n",
    "\n",
    "xs = [x for (x,y) in flatten(scaled_vertices)]\n",
    "ys = [y for (x,y) in flatten(scaled_vertices)]\n",
    "\n",
    "im = Image.new('RGB', (max(xs)+2, max(ys)+2))\n",
    "draw = ImageDraw.Draw(im)\n",
    "\n",
    "for vertex in scaled_vertices:\n",
    "    draw.polygon(vertex, fill = (255,0,0))\n",
    "fig, ax = plt.subplots()\n",
    "ax.imshow(im)\n",
    "\n",
    "# Only use the vertices for ticks in our graph\n",
    "plt.xticks(list(sorted(set(xs))))\n",
    "plt.yticks(list(sorted(set(ys))))\n",
    "plt.show()"
   ]
  },
  {
   "cell_type": "code",
   "execution_count": null,
   "id": "fd2fee0d",
   "metadata": {},
   "outputs": [],
   "source": [
    "\n",
    "\n",
    "\n",
    "\n",
    "\n",
    "\n",
    "\n",
    "\n",
    "\n",
    "\n",
    "\n",
    "\n"
   ]
  }
 ],
 "metadata": {
  "kernelspec": {
   "display_name": "Python 3 (ipykernel)",
   "language": "python",
   "name": "python3"
  },
  "language_info": {
   "codemirror_mode": {
    "name": "ipython",
    "version": 3
   },
   "file_extension": ".py",
   "mimetype": "text/x-python",
   "name": "python",
   "nbconvert_exporter": "python",
   "pygments_lexer": "ipython3",
   "version": "3.10.12"
  }
 },
 "nbformat": 4,
 "nbformat_minor": 5
}
