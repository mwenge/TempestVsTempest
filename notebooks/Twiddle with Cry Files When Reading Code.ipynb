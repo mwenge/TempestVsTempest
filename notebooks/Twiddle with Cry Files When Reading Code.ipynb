{
 "cells": [
  {
   "cell_type": "markdown",
   "id": "05ea0fb5",
   "metadata": {},
   "source": [
    "# Convert CRY files to RGB"
   ]
  },
  {
   "cell_type": "markdown",
   "id": "6b3c9934",
   "metadata": {},
   "source": [
    "Convert cry files to rgb arrays that we can use to create and extract images."
   ]
  },
  {
   "cell_type": "code",
   "execution_count": 3,
   "id": "8d1145c8",
   "metadata": {},
   "outputs": [],
   "source": [
    "CRY_RGB = [\n",
    "[\n",
    "    [0,0,0,0,0,0,0,0,0,0,0,0,0,0,0,0],\n",
    "    [34,34,34,34,34,34,34,34,34,34,34,34,34,34,19,0],\n",
    "    [68,68,68,68,68,68,68,68,68,68,68,68,64,43,21,0],\n",
    "    [102,102,102,102,102,102,102,102,102,102,102,95,71,47,23,0],\n",
    "    [135,135,135,135,135,135,135,135,135,135,135,104,78,52,26,0],\n",
    "    [169,169,169,169,169,169,169,169,169,170,141,113,85,56,28,0],\n",
    "    [203,203,203,203,203,203,203,203,203,203,153,122,91,61,30,0],\n",
    "    [237,237,237,237,237,237,237,237,230,197,164,131,98,65,32,0],\n",
    "    [255,255,255,255,255,255,255,255,247,214,181,148,115,82,49,17],\n",
    "    [255,255,255,255,255,255,255,255,255,235,204,173,143,112,81,51],\n",
    "    [255,255,255,255,255,255,255,255,255,255,227,198,170,141,113, 85],\n",
    "    [255,255,255,255,255,255,255,255,255,255,249,223,197,171,145,119],\n",
    "    [255,255,255,255,255,255,255,255,255,255,255,248,224,200,177,153],\n",
    "    [255,255,255,255,255,255,255,255,255,255,255,255,252,230,208,187],\n",
    "    [255,255,255,255,255,255,255,255,255,255,255,255,255,255,240,221],\n",
    "    [255,255,255,255,255,255,255,255,255,255,255,255,255,255,255,255]\n",
    "    ],\n",
    "[\n",
    "    [0,17,34,51,68,85,102,119,136,153,170,187,204,221,238,255],\n",
    "    [0,19,38,57,77,96,115,134,154,173,192,211,231,250,255,255],\n",
    "    [0,21,43,64,86,107,129,150,172,193,215,236,255,255,255,255],\n",
    "    [0,23,47,71,95,119,142,166,190,214,238,255,255,255,255,255],\n",
    "    [0,26,52,78,104,130,156,182,208,234,255,255,255,255,255,255],\n",
    "    [0,28,56,85,113,141,170,198,226,255,255,255,255,255,255,255],\n",
    "    [0,30,61,91,133,153,183,214,244,255,255,255,255,255,255,255],\n",
    "    [0,32,65,98,131,164,197,230,255,255,255,255,255,255,255,255],\n",
    "    [0,32,65,98,131,164,197,230,255,255,255,255,255,255,255,255],\n",
    "    [0,30,61,91,133,153,183,214,244,255,255,255,255,255,255,255],\n",
    "    [0,28,56,85,113,141,170,198,226,255,255,255,255,255,255,255],\n",
    "    [0,26,52,78,104,130,156,182,208,234,255,255,255,255,255,255],\n",
    "    [0,23,47,71,95,119,142,166,190,214,238,255,255,255,255,255],\n",
    "    [0,21,43,64,86,107,129,150,172,193,215,236,255,255,255,255],\n",
    "    [0,19,38,57,77,96,115,134,154,173,192,211,231,250,255,255],\n",
    "    [0,17,34,51,68,85,102,119,136,153,170,187,204,221,238,255]\n",
    "],\n",
    "[\n",
    "    [255,255,255,255,255,255,255,255,255,255,255,255,255,255,255,255],\n",
    "    [255,255,255,255,255,255,255,255,255,255,255,255,255,255,240,221],\n",
    "    [255,255,255,255,255,255,255,255,255,255,255,255,252,230,208,187],\n",
    "    [255,255,255,255,255,255,255,255,255,255,255,248,224,200,177,153],\n",
    "    [255,255,255,255,255,255,255,255,255,255,249,223,197,171,145,119],\n",
    "    [255,255,255,255,255,255,255,255,255,255,227,198,170,141,113,85],\n",
    "    [255,255,255,255,255,255,255,255,255,235,204,173,143,112,81,51],\n",
    "    [255,255,255,255,255,255,255,255,247,214,181,148,115,82,49,17],\n",
    "    [237,237,237,237,237,237,237,237,230,197,164,131,98,65,32,0],\n",
    "    [203,203,203,203,203,203,203,203,203,203,153,122,91,61,30,0],\n",
    "    [169,169,169,169,169,169,169,169,169,170,141,113,85,56,28,0],\n",
    "    [135,135,135,135,135,135,135,135,135,135,135,104,78,52,26,0],\n",
    "    [102,102,102,102,102,102,102,102,102,102,102,95,71,47,23,0],\n",
    "    [68,68,68,68,68,68,68,68,68,68,68,68,64,43,21,0],\n",
    "    [34,34,34,34,34,34,34,34,34,34,34,34,34,34,19,0],\n",
    "    [0,0,0,0,0,0,0,0,0,0,0,0,0,0,0,0]\n",
    "]\n",
    "]"
   ]
  },
  {
   "cell_type": "code",
   "execution_count": 73,
   "id": "6fb5e9f6",
   "metadata": {},
   "outputs": [],
   "source": [
    "import math\n",
    "from PIL import Image, ImageColor\n",
    "import numpy as np\n",
    "\n",
    "def saturate(c,intensity):\n",
    "    # Modify them using the intensity value\n",
    "    c = c * (intensity / 255.0)\n",
    "    c = math.ceil(c+0.5)\n",
    "    # Clamp the value between 0 and 255\n",
    "    return max(0, min(c,255))\n",
    "    \n",
    "def cry_to_rgb(d):\n",
    "    # For example value of d: 0x1A20\n",
    "    intensity = d & 0xFF   # get the intensity: 0x20\n",
    "    cr1 = (d >> 12) & 0xF  # get index 1: 0x0A (10)\n",
    "    cr2 = (d >> 8) & 0xF   # get index 2: 0x01 (1)\n",
    "    \n",
    "    # Use the indices to get the RGB values from our\n",
    "    # lookup table\n",
    "    r = CRY_RGB[0][cr1][cr2]\n",
    "    g = CRY_RGB[1][cr1][cr2]\n",
    "    b = CRY_RGB[2][cr1][cr2]\n",
    "\n",
    "    # Ensure we get a valid rgb value between 0 and 255\n",
    "    r1 = saturate(r, intensity)\n",
    "    g1 = saturate(g, intensity)\n",
    "    b1 = saturate(b, intensity)\n",
    "\n",
    "    return (r1,g1,b1)\n",
    "\n",
    "def getPixels(file_name):\n",
    "    width = 320\n",
    "    cry_pixels = open(file_name,'rb').read()\n",
    "    rgb_pixels = []\n",
    "    for i in range(0, len(cry_pixels),2):\n",
    "        t = cry_pixels[i:i+2]\n",
    "        #print(i,t,int.from_bytes(t,'little'))\n",
    "        rgb = cry_to_rgb(int.from_bytes(t,'big'))\n",
    "        rgb_pixels += [rgb]\n",
    "    pixels = np.array(rgb_pixels).astype(np.uint8)\n",
    "    pixels.shape = (-1,width,3)\n",
    "    return pixels"
   ]
  },
  {
   "cell_type": "code",
   "execution_count": 70,
   "id": "7e1ac2cc",
   "metadata": {},
   "outputs": [
    {
     "data": {
      "text/plain": [
       "128.0"
      ]
     },
     "execution_count": 70,
     "metadata": {},
     "output_type": "execute_result"
    }
   ],
   "source": [
    "\n",
    "((0x10000/2)%320)"
   ]
  },
  {
   "cell_type": "code",
   "execution_count": 66,
   "id": "9b4ffdab",
   "metadata": {},
   "outputs": [
    {
     "data": {
      "text/plain": [
       "288"
      ]
     },
     "execution_count": 66,
     "metadata": {},
     "output_type": "execute_result"
    }
   ],
   "source": [
    "0x120"
   ]
  },
  {
   "cell_type": "code",
   "execution_count": 76,
   "id": "cbb7df1b",
   "metadata": {},
   "outputs": [
    {
     "data": {
      "image/png": "[encoded data removed]",
      "text/plain": [
       "<PIL.Image.Image image mode=RGB size=444x156 at 0x7102AB7434F0>"
      ]
     },
     "execution_count": 76,
     "metadata": {},
     "output_type": "execute_result"
    }
   ],
   "source": [
    "pixels = getPixels('cry/beasty7.cry')\n",
    "subpixels = pixels[1:79,1:223]\n",
    "img = Image.fromarray(subpixels,mode='RGB')\n",
    "img = img.resize((img.width * 2, img.height * 2), Image.NEAREST)\n",
    "img"
   ]
  },
  {
   "cell_type": "code",
   "execution_count": null,
   "id": "fdbb1218",
   "metadata": {},
   "outputs": [],
   "source": [
    "\n",
    "\n",
    "\n",
    "\n",
    "\n",
    "\n",
    "\n",
    "\n"
   ]
  }
 ],
 "metadata": {
  "kernelspec": {
   "display_name": "Python 3 (ipykernel)",
   "language": "python",
   "name": "python3"
  },
  "language_info": {
   "codemirror_mode": {
    "name": "ipython",
    "version": 3
   },
   "file_extension": ".py",
   "mimetype": "text/x-python",
   "name": "python",
   "nbconvert_exporter": "python",
   "pygments_lexer": "ipython3",
   "version": "3.10.12"
  }
 },
 "nbformat": 4,
 "nbformat_minor": 5
}
